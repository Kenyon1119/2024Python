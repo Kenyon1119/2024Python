{
 "cells": [
  {
   "cell_type": "code",
   "execution_count": null,
   "metadata": {},
   "outputs": [],
   "source": [
    "##請輸出50人的身高、體重、BMI、建議\n",
    "#輸出：白美珍，身高：175CM，體重：85，BMI：XX，體重：正常\n",
    "#BMI、體重建議的funtion"
   ]
  }
 ],
 "metadata": {
  "language_info": {
   "name": "python"
  }
 },
 "nbformat": 4,
 "nbformat_minor": 2
}
