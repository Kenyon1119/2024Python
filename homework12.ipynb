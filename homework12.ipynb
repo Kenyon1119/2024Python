{
 "cells": [
  {
   "cell_type": "code",
   "execution_count": null,
   "metadata": {},
   "outputs": [],
   "source": [
    "##請輸出50人的身高、體重、BMI、建議\n",
    "#輸出：白美珍，身高：175CM，體重：85，BMI：XX，體重：正常\n",
    "#BMI、體重建議的funtion\n"
   ]
  },
  {
   "cell_type": "code",
   "execution_count": 181,
   "metadata": {},
   "outputs": [
    {
     "name": "stdout",
     "output_type": "stream",
     "text": [
      "周琬婷,身高：143cm,體重：82kg,BMI：40.10,所屬範圍:重度肥胖\n",
      "戚亨,身高：169cm,體重：78kg,BMI：27.31,所屬範圍:輕度肥胖\n",
      "李進慧,身高：130cm,體重：41kg,BMI：24.26,所屬範圍:體重稍重\n",
      "傅佳琳,身高：102cm,體重：46kg,BMI：44.21,所屬範圍:重度肥胖\n",
      "黃江旭,身高：189cm,體重：41kg,BMI：11.48,所屬範圍:體重過輕\n",
      "彭偉妃,身高：119cm,體重：41kg,BMI：28.95,所屬範圍:輕度肥胖\n",
      "郭坤花,身高：164cm,體重：89kg,BMI：33.09,所屬範圍:中度肥胖\n",
      "林康亮,身高：152cm,體重：83kg,BMI：35.92,所屬範圍:重度肥胖\n",
      "陳凱翔,身高：152cm,體重：93kg,BMI：40.25,所屬範圍:重度肥胖\n",
      "陳怡伶,身高：148cm,體重：72kg,BMI：32.87,所屬範圍:中度肥胖\n"
     ]
    }
   ],
   "source": [
    "import random\n",
    "def getSuggestion(bmi:float) -> str:\n",
    "    '''計算建議：給入bmi:float，傳回suggest:str'''\n",
    "    if bmi<18.5:\n",
    "        suggest=('體重過輕')\n",
    "    elif bmi<24:\n",
    "        suggest=('身材正常')\n",
    "    elif bmi<27:\n",
    "        suggest=('體重稍重')\n",
    "    elif bmi<30:\n",
    "        suggest=('輕度肥胖')\n",
    "    elif bmi<35:\n",
    "        suggest=('中度肥胖')\n",
    "    else:  \n",
    "        suggest=('重度肥胖')\n",
    "    return suggest\n",
    "def getBMI(height:float,weight:float,)->float:\n",
    "    '''計算BMI，給入height:float及weight:float，傳回bmi:float'''\n",
    "    bmi=weight/((height/100)**2)\n",
    "    return bmi\n",
    "def homework(member:int)->str:\n",
    "    for i in range(0,member):\n",
    "        with open('names.txt',encoding='utf-8') as file:\n",
    "            names: str = file.read()\n",
    "            name_list: list[str] = names.split(sep='\\n')\n",
    "            XXX=random.choice(name_list)\n",
    "            height=randint(100,190)\n",
    "            weight=randint(40,99)\n",
    "            bmi=getBMI(height,weight)\n",
    "            suggest=getSuggestion(bmi)\n",
    "            print(f'{XXX},身高：{height}cm,體重：{weight}kg,BMI：{bmi:.2f},所屬範圍:{suggest}')\n",
    "\n",
    "homework(10)"
   ]
  },
  {
   "cell_type": "code",
   "execution_count": 2,
   "metadata": {},
   "outputs": [
    {
     "name": "stdout",
     "output_type": "stream",
     "text": [
      "楊少亮,身高：171cm,體重：42kg,BMI：14.36,所屬範圍:體重過輕\n",
      "陳俊憲,身高：142cm,體重：71kg,BMI：35.21,所屬範圍:重度肥胖\n",
      "林瑞喬,身高：160cm,體重：94kg,BMI：36.72,所屬範圍:重度肥胖\n",
      "黃佩玲,身高：133cm,體重：40kg,BMI：22.61,所屬範圍:身材正常\n",
      "吳淑惠,身高：151cm,體重：40kg,BMI：17.54,所屬範圍:體重過輕\n",
      "鄭淑珍,身高：130cm,體重：81kg,BMI：47.93,所屬範圍:重度肥胖\n",
      "謝佳穎,身高：127cm,體重：54kg,BMI：33.48,所屬範圍:中度肥胖\n",
      "李佳彥,身高：185cm,體重：81kg,BMI：23.67,所屬範圍:身材正常\n",
      "張韋成,身高：125cm,體重：94kg,BMI：60.16,所屬範圍:重度肥胖\n",
      "陳淑娟,身高：130cm,體重：40kg,BMI：23.67,所屬範圍:身材正常\n"
     ]
    }
   ],
   "source": [
    "import random\n",
    "from random import randint\n",
    "def getSuggestion(bmi:float) -> str:\n",
    "    '''計算建議：給入bmi:float，傳回suggest:str'''\n",
    "    if bmi<18.5:\n",
    "        suggest=('體重過輕')\n",
    "    elif bmi<24:\n",
    "        suggest=('身材正常')\n",
    "    elif bmi<27:\n",
    "        suggest=('體重稍重')\n",
    "    elif bmi<30:\n",
    "        suggest=('輕度肥胖')\n",
    "    elif bmi<35:\n",
    "        suggest=('中度肥胖')\n",
    "    else:  \n",
    "        suggest=('重度肥胖')\n",
    "    return suggest\n",
    "def getBMI(height:float,weight:float,)->float:\n",
    "    '''計算BMI，給入height:float及weight:float，傳回bmi:float'''\n",
    "    bmi=weight/((height/100)**2)\n",
    "    return bmi\n",
    "def homework(member:int)->str:\n",
    "    for i in range(0,member):\n",
    "        with open('names.txt',encoding='utf-8') as file:\n",
    "            names: str = file.read()\n",
    "            name_list: list[str] = names.split(sep='\\n')\n",
    "            XXX=random.choice(name_list)\n",
    "            height=randint(100,190)\n",
    "            weight=randint(40,99)\n",
    "            bmi=getBMI(height,weight)\n",
    "            suggest=getSuggestion(bmi)\n",
    "            print(f'{XXX},身高：{height}cm,體重：{weight}kg,BMI：{bmi:.2f},所屬範圍:{suggest}')\n",
    "            ##不是使用list\n",
    "\n",
    "homework(10)"
   ]
  },
  {
   "cell_type": "code",
   "execution_count": 5,
   "metadata": {},
   "outputs": [
    {
     "name": "stdout",
     "output_type": "stream",
     "text": [
      "請輸入學生數量:"
     ]
    }
   ],
   "source": [
    "import random\n",
    "from random import randint\n",
    "import pyinputplus as pyip\n",
    "\n",
    "students:list[dict]=[]  #List\n",
    "nums=pyip.inputInt(f\"請輸入學生數量:\")\n",
    "def getSuggestion(bmi:float) -> str:\n",
    "    '''計算建議：給入bmi:float，傳回suggest:str'''\n",
    "    if bmi<18.5:\n",
    "        suggest=('體重過輕')\n",
    "    elif bmi<24:\n",
    "        suggest=('身材正常')\n",
    "    elif bmi<27:\n",
    "        suggest=('體重稍重')\n",
    "    elif bmi<30:\n",
    "        suggest=('輕度肥胖')\n",
    "    elif bmi<35:\n",
    "        suggest=('中度肥胖')\n",
    "    else:  \n",
    "        suggest=('重度肥胖')\n",
    "    return suggest\n",
    "def getBMI(height:float,weight:float,)->float:\n",
    "    '''計算BMI，給入height:float及weight:float，傳回bmi:float'''\n",
    "    bmi=weight/((height/100)**2)\n",
    "    return bmi\n",
    "def homework(nums:int)->str:\n",
    "    for i in range(0,nums):\n",
    "        student:dict[str,int]={}    #建置list的dict\n",
    "        with open('names.txt',encoding='utf-8') as file:\n",
    "            names: str = file.read()\n",
    "            name_list: list[str] = names.split(sep='\\n')\n",
    "            XXX=random.choice(name_list)\n",
    "            height=randint(100,190)\n",
    "            weight=randint(40,99)\n",
    "            bmi=getBMI(height,weight)\n",
    "            suggest=getSuggestion(bmi)\n",
    "            for student in ['姓名：','身高：','體重：','BMI:','所屬範圍：']:\n",
    "                student={'姓名':XXX,\n",
    "                         '身高':height,\n",
    "                         '體重':weight,\n",
    "                         'BMI':bmi,\n",
    "                         '所屬範圍':suggest} \n",
    "            students.append(student)\n",
    "homework(nums)"
   ]
  }
 ],
 "metadata": {
  "kernelspec": {
   "display_name": "Python 3",
   "language": "python",
   "name": "python3"
  },
  "language_info": {
   "codemirror_mode": {
    "name": "ipython",
    "version": 3
   },
   "file_extension": ".py",
   "mimetype": "text/x-python",
   "name": "python",
   "nbconvert_exporter": "python",
   "pygments_lexer": "ipython3",
   "version": "3.10.13"
  }
 },
 "nbformat": 4,
 "nbformat_minor": 2
}
