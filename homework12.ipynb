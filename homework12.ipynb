{
 "cells": [
  {
   "cell_type": "code",
   "execution_count": null,
   "metadata": {},
   "outputs": [],
   "source": [
    "##請輸出50人的身高、體重、BMI、建議\n",
    "#輸出：白美珍，身高：175CM，體重：85，BMI：XX，體重：正常\n",
    "#BMI、體重建議的funtion\n"
   ]
  },
  {
   "cell_type": "code",
   "execution_count": 154,
   "metadata": {},
   "outputs": [
    {
     "name": "stdout",
     "output_type": "stream",
     "text": [
      "傅佳琳,身高：145cm,體重：71kg,BMI：33.77,所屬範圍:中度肥胖\n",
      "林建宏,身高：183cm,體重：76kg,BMI：22.69,所屬範圍:身材正常\n",
      "林清英,身高：102cm,體重：98kg,BMI：94.19,所屬範圍:重度肥胖\n",
      "陳倩潔,身高：174cm,體重：50kg,BMI：16.51,所屬範圍:體重過輕\n",
      "吳俐芷,身高：139cm,體重：80kg,BMI：41.41,所屬範圍:重度肥胖\n"
     ]
    }
   ],
   "source": [
    "import random\n",
    "from random import randint\n",
    "def getSuggestion(bmi:float) -> str:\n",
    "    '''計算建議：給入bmi:float，傳回suggest:str'''\n",
    "    if bmi<18.5:\n",
    "        suggest=('體重過輕')\n",
    "    elif bmi<24:\n",
    "        suggest=('身材正常')\n",
    "    elif bmi<27:\n",
    "        suggest=('體重稍重')\n",
    "    elif bmi<30:\n",
    "        suggest=('輕度肥胖')\n",
    "    elif bmi<35:\n",
    "        suggest=('中度肥胖')\n",
    "    else:  \n",
    "        suggest=('重度肥胖')\n",
    "    return suggest\n",
    "def getBMI(height:float,weight:float,)->float:\n",
    "    '''計算BMI，給入height:float及weight:float，傳回bmi:float'''\n",
    "    bmi=weight/((height/100)**2)\n",
    "    return bmi\n",
    "def homework(member:int)->str:\n",
    "    for i in range(0,member):\n",
    "        with open('names.txt',encoding='utf-8') as file:\n",
    "            names: str = file.read()\n",
    "            name_list: list[str] = names.split(sep='\\n')\n",
    "            XXX=random.choice(name_list)\n",
    "            height=randint(100,190)\n",
    "            weight=randint(40,99)\n",
    "            bmi=getBMI(height,weight)\n",
    "            suggest=getSuggestion(bmi)\n",
    "            print(f'{XXX},身高：{height}cm,體重：{weight}kg,BMI：{bmi:.2f},所屬範圍:{suggest}')\n",
    "\n",
    "homework(5)"
   ]
  }
 ],
 "metadata": {
  "kernelspec": {
   "display_name": "Python 3",
   "language": "python",
   "name": "python3"
  },
  "language_info": {
   "codemirror_mode": {
    "name": "ipython",
    "version": 3
   },
   "file_extension": ".py",
   "mimetype": "text/x-python",
   "name": "python",
   "nbconvert_exporter": "python",
   "pygments_lexer": "ipython3",
   "version": "3.10.13"
  }
 },
 "nbformat": 4,
 "nbformat_minor": 2
}
