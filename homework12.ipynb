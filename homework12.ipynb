{
 "cells": [
  {
   "cell_type": "code",
   "execution_count": 22,
   "metadata": {},
   "outputs": [],
   "source": [
    "##請輸出50人的身高、體重、BMI、建議\n",
    "#輸出：白美珍，身高：175CM，體重：85，BMI：XX，體重：正常\n",
    "#BMI、體重建議的funtion\n"
   ]
  },
  {
   "cell_type": "code",
   "execution_count": 23,
   "metadata": {},
   "outputs": [
    {
     "ename": "NameError",
     "evalue": "name 'names' is not defined",
     "output_type": "error",
     "traceback": [
      "\u001b[0;31m---------------------------------------------------------------------------\u001b[0m",
      "\u001b[0;31mNameError\u001b[0m                                 Traceback (most recent call last)",
      "Cell \u001b[0;32mIn[23], line 3\u001b[0m\n\u001b[1;32m      1\u001b[0m \u001b[38;5;28;01mimport\u001b[39;00m \u001b[38;5;21;01mrandom\u001b[39;00m\n\u001b[1;32m      2\u001b[0m num\u001b[38;5;241m=\u001b[39m\u001b[38;5;241m10\u001b[39m\n\u001b[0;32m----> 3\u001b[0m randomnames:\u001b[38;5;28mlist\u001b[39m[\u001b[38;5;28mstr\u001b[39m]\u001b[38;5;241m=\u001b[39mrandom\u001b[38;5;241m.\u001b[39mchoices(\u001b[43mnames\u001b[49m,k\u001b[38;5;241m=\u001b[39mnum)\n\u001b[1;32m      4\u001b[0m randomnames\n",
      "\u001b[0;31mNameError\u001b[0m: name 'names' is not defined"
     ]
    }
   ],
   "source": [
    "import random\n",
    "num=10\n",
    "randomnames:list[str]=random.choices(names,k=num)\n",
    "randomnames"
   ]
  },
  {
   "cell_type": "code",
   "execution_count": 93,
   "metadata": {},
   "outputs": [
    {
     "name": "stdout",
     "output_type": "stream",
     "text": [
      "身高166，體重99您的BMI為15.56,範圍區間屬於過輕，多吃一點補充營養\n"
     ]
    }
   ],
   "source": [
    "import pyinputplus as pyip\n",
    "def getSuggestion(bmi:float) -> str:\n",
    "    '''給入值bmi，傳出建議getSuggestion(bmi)'''\n",
    "    if bmi<18.5:\n",
    "        suggest=('範圍區間屬於過輕，多吃一點補充營養')\n",
    "    elif bmi<24:\n",
    "        suggest=('範圍區間屬於正常')\n",
    "    elif bmi<27:\n",
    "        suggest=('範圍區間屬於過重，注意飲食')\n",
    "    elif bmi<30:\n",
    "        suggest=('範圍區間屬於輕度肥胖，要多運動')\n",
    "    elif bmi<35:\n",
    "        suggest=('範圍區間屬於中度肥胖，該注意飲食外要多加運動')\n",
    "    else:  \n",
    "        suggest=('範圍區間屬於重度肥胖，請與醫師與健身教練聯絡諮詢')\n",
    "    return suggest\n",
    "\n",
    "def getBMI(height:float,weight:float,)->float:\n",
    "    bmi=weight/((height/100)**2)\n",
    "    return bmi\n",
    "\n",
    "height:float=eval(input(\"請輸入您的身高 ( 120~250 公分)\"))\n",
    "weight:float=eval(input(\"請輸入您的體重 (  30~250 公斤)\"))\n",
    "getBMI(height,weight)\n",
    "print(f'身高{height}，體重{weight}您的BMI為{bmi:.2f},{getSuggestion(bmi)}')\n",
    "\n",
    "\n",
    "\n"
   ]
  },
  {
   "cell_type": "code",
   "execution_count": 409,
   "metadata": {},
   "outputs": [
    {
     "name": "stdout",
     "output_type": "stream",
     "text": [
      "陳淑萍,身高142cm,體重44kg,BMI：21.82,所屬範圍:身材正常，非常完美\n",
      "陳冠霞,身高128cm,體重95kg,BMI：57.98,所屬範圍:重度肥胖，請與醫師與健身教練聯絡諮詢\n",
      "陳建香,身高173cm,體重65kg,BMI：21.72,所屬範圍:身材正常，非常完美\n",
      "劉林中,身高129cm,體重60kg,BMI：36.06,所屬範圍:重度肥胖，請與醫師與健身教練聯絡諮詢\n",
      "陳建香,身高122cm,體重88kg,BMI：59.12,所屬範圍:重度肥胖，請與醫師與健身教練聯絡諮詢\n",
      "王惠皓,身高137cm,體重67kg,BMI：35.70,所屬範圍:重度肥胖，請與醫師與健身教練聯絡諮詢\n"
     ]
    }
   ],
   "source": [
    "from random import randint\n",
    "def getSuggestion(bmi:float) -> str:\n",
    "    '''計算建議：給入bmi:float，傳回suggest:str'''\n",
    "    if bmi<18.5:\n",
    "        suggest=('體重過輕，多吃一點補充營養')\n",
    "    elif bmi<24:\n",
    "        suggest=('身材正常，非常完美')\n",
    "    elif bmi<27:\n",
    "        suggest=('體重稍重，注意飲食')\n",
    "    elif bmi<30:\n",
    "        suggest=('輕度肥胖，要多運動')\n",
    "    elif bmi<35:\n",
    "        suggest=('中度肥胖，該注意飲食外要多加運動')\n",
    "    else:  \n",
    "        suggest=('重度肥胖，請與醫師與健身教練聯絡諮詢')\n",
    "    return suggest\n",
    "def getBMI(height:float,weight:float,)->float:\n",
    "    '''計算BMI，給入height:float及weight:float，傳回bmi:float'''\n",
    "    bmi=weight/((height/100)**2)\n",
    "    return bmi\n",
    "def homework(member:int)->str:\n",
    "    for i in range(0,member):\n",
    "        with open('names.txt',encoding='utf-8') as file:\n",
    "            names: str = file.read()\n",
    "            name_list: list[str] = names.split(sep='\\n')\n",
    "            XXX=random.choice(name_list)\n",
    "            height=randint(100,190)\n",
    "            weight=randint(40,99)\n",
    "            bmi=getBMI(height,weight)\n",
    "            suggest=getSuggestion(bmi)\n",
    "            print(f'{XXX},身高{height}cm,體重{weight}kg,BMI：{bmi:.2f},所屬範圍:{suggest}')\n",
    "\n",
    "member=6\n",
    "homework(member)"
   ]
  }
 ],
 "metadata": {
  "kernelspec": {
   "display_name": "Python 3",
   "language": "python",
   "name": "python3"
  },
  "language_info": {
   "codemirror_mode": {
    "name": "ipython",
    "version": 3
   },
   "file_extension": ".py",
   "mimetype": "text/x-python",
   "name": "python",
   "nbconvert_exporter": "python",
   "pygments_lexer": "ipython3",
   "version": "3.10.13"
  }
 },
 "nbformat": 4,
 "nbformat_minor": 2
}
