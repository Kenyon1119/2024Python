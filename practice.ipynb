{
 "cells": [
  {
   "cell_type": "code",
   "execution_count": 7,
   "metadata": {},
   "outputs": [
    {
     "name": "stdout",
     "output_type": "stream",
     "text": [
      "您的BMI是24\n",
      "您的體重屬於：過重，注意飲食\n",
      "\n"
     ]
    }
   ],
   "source": [
    "##輸入BMI，條件判斷式\n",
    "\n",
    "bmi:float=eval(input('請輸入您的BMI'))\n",
    "\n",
    "print(f'您的BMI是{bmi}')\n",
    "if bmi<18.5:\n",
    "    print(f'您的體重屬於：過輕，多吃一點補充營養\\n')\n",
    "elif bmi<24:\n",
    "    print(f'您的體重屬於：正常\\n')\n",
    "elif bmi<27:\n",
    "    print(f'您的體重屬於：過重，注意飲食\\n')\n",
    "elif bmi<30:\n",
    "    print(f'您的體重屬於：輕度肥胖，要多運動\\n')\n",
    "elif bmi<35:\n",
    "    print(f'您的體重屬於：中度肥胖，該注意飲食外要多加運動\\n')\n",
    "else:  \n",
    "    print(f'您的體重屬於：重度肥胖，請與醫師與健身教練聯絡諮詢\\n') "
   ]
  },
  {
   "cell_type": "code",
   "execution_count": 17,
   "metadata": {},
   "outputs": [
    {
     "name": "stdout",
     "output_type": "stream",
     "text": [
      "您的身高是166.66公分！\n"
     ]
    }
   ],
   "source": [
    "##優雅的失敗\n",
    "##輸入亂數，而非指定數值\n",
    "try:\n",
    "    height:int=eval(input(f\"您好，請輸入您的身高 ( 120~250 公分)\"))           \n",
    "except:\n",
    "    print('請注意身高要輸入正確數值喔！')\n",
    "else:\n",
    "    print(f'您的身高是{height}公分！')"
   ]
  }
 ],
 "metadata": {
  "kernelspec": {
   "display_name": "Python 3",
   "language": "python",
   "name": "python3"
  },
  "language_info": {
   "codemirror_mode": {
    "name": "ipython",
    "version": 3
   },
   "file_extension": ".py",
   "mimetype": "text/x-python",
   "name": "python",
   "nbconvert_exporter": "python",
   "pygments_lexer": "ipython3",
   "version": "3.10.13"
  }
 },
 "nbformat": 4,
 "nbformat_minor": 2
}
