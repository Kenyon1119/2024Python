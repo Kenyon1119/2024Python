{
 "cells": [
  {
   "cell_type": "code",
   "execution_count": 13,
   "metadata": {},
   "outputs": [
    {
     "name": "stdout",
     "output_type": "stream",
     "text": [
      "5 10 15 20 二十五 True\n",
      "5-*-10-*-15-*-20-*-二十五-*-True。\n"
     ]
    }
   ],
   "source": [
    "###print(*objects, sep=' ', end='\\n', file=None, flush=False)¶\n",
    "### 輸出(物件, sep=' '預設值, end='\\n'換行)\n",
    "a=10\n",
    "print(5,a,15,20,'二十五',True)\n",
    "print(5,a,15,20,'二十五',True,sep='-*-', end='。\\n')"
   ]
  },
  {
   "cell_type": "code",
   "execution_count": 15,
   "metadata": {},
   "outputs": [
    {
     "name": "stdout",
     "output_type": "stream",
     "text": [
      "20\n",
      "<class 'str'>\n",
      "30\n",
      "<class 'int'>\n"
     ]
    }
   ],
   "source": [
    "###input(prompt)\n",
    "###輸入(輸入提示)\n",
    "###變數接收\n",
    "a=input('妳想要A是多少')\n",
    "print(a)\n",
    "print(type(a))\n",
    "b=int(input('妳想要B是多少'))\n",
    "print(b)\n",
    "print(type(b))\n"
   ]
  },
  {
   "cell_type": "code",
   "execution_count": 9,
   "metadata": {},
   "outputs": [
    {
     "name": "stdout",
     "output_type": "stream",
     "text": [
      "3.155566\n"
     ]
    },
    {
     "data": {
      "text/plain": [
       "'您輸入的數字是3.16'"
      ]
     },
     "execution_count": 9,
     "metadata": {},
     "output_type": "execute_result"
    }
   ],
   "source": [
    "###eval(expression, globals=None, locals=None)\n",
    "###輸入浮點數、整數，否則會出錯\n",
    "C=eval(input('輸入'))\n",
    "print(C)\n",
    "###round(number, ndigits=None)\n",
    "###小數點限制位數(數字，位數)\n",
    "round(C, ndigits=2)\n",
    "###字串差補(字串格式化)\n",
    "###字串和變數整合成為全新字串\n",
    "f'您輸入的數字是{round(C, ndigits=2)}'\n",
    "\n"
   ]
  }
 ],
 "metadata": {
  "kernelspec": {
   "display_name": "Python 3",
   "language": "python",
   "name": "python3"
  },
  "language_info": {
   "codemirror_mode": {
    "name": "ipython",
    "version": 3
   },
   "file_extension": ".py",
   "mimetype": "text/x-python",
   "name": "python",
   "nbconvert_exporter": "python",
   "pygments_lexer": "ipython3",
   "version": "3.10.13"
  }
 },
 "nbformat": 4,
 "nbformat_minor": 2
}
