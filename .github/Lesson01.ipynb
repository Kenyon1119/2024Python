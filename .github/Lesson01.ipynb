{
 "cells": [
  {
   "cell_type": "code",
   "execution_count": 18,
   "metadata": {},
   "outputs": [
    {
     "name": "stdout",
     "output_type": "stream",
     "text": [
      "3.141592\n",
      "<class 'float'>\n"
     ]
    }
   ],
   "source": [
    "print(3.141592)\n",
    "print(type(3.141592))"
   ]
  },
  {
   "cell_type": "code",
   "execution_count": 19,
   "metadata": {},
   "outputs": [
    {
     "name": "stdout",
     "output_type": "stream",
     "text": [
      "3.141592\n",
      "<class 'str'>\n"
     ]
    }
   ],
   "source": [
    "print('3.141592')\n",
    "print(type('3.141592'))"
   ]
  },
  {
   "cell_type": "code",
   "execution_count": 21,
   "metadata": {},
   "outputs": [
    {
     "name": "stdout",
     "output_type": "stream",
     "text": [
      "6\n"
     ]
    }
   ],
   "source": [
    "##運算元 (int)(float)(str)(boolen)\n",
    "##運算子 (+)(-)(*)(/)\n",
    "##餘數(%)、次方(**)、(//)\n",
    "##相加後存值(+=)\n",
    "##相減後存值(-=)\n",
    "##輸出 print\n",
    "##資料型別 type\n",
    "A=3\n",
    "A+=3\n",
    "##註解\n",
    "##A+3=6，6回傳A\n",
    "print(A)"
   ]
  },
  {
   "cell_type": "code",
   "execution_count": null,
   "metadata": {},
   "outputs": [],
   "source": [
    "##介紹PYTHON內建函式庫\n",
    "##https://docs.python.org/zh-tw/3/library/functions.html"
   ]
  }
 ],
 "metadata": {
  "kernelspec": {
   "display_name": "Python 3",
   "language": "python",
   "name": "python3"
  },
  "language_info": {
   "codemirror_mode": {
    "name": "ipython",
    "version": 3
   },
   "file_extension": ".py",
   "mimetype": "text/x-python",
   "name": "python",
   "nbconvert_exporter": "python",
   "pygments_lexer": "ipython3",
   "version": "3.10.13"
  }
 },
 "nbformat": 4,
 "nbformat_minor": 2
}
