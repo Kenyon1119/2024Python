{
 "cells": [
  {
   "cell_type": "code",
   "execution_count": 56,
   "metadata": {},
   "outputs": [
    {
     "name": "stdout",
     "output_type": "stream",
     "text": [
      "您的BMI範圍區間屬於正常\n"
     ]
    }
   ],
   "source": [
    "bmi:float=eval(input(\"請輸入您的bmi\"))\n",
    "if bmi<18.5:\n",
    "    print(f'您的BMI範圍區間屬於過輕，多吃一點補充營養')\n",
    "elif bmi<24:\n",
    "    print(f'您的BMI範圍區間屬於正常')\n",
    "elif bmi<27:\n",
    "    print(f'您的BMI範圍區間屬於過重，注意飲食')\n",
    "elif bmi<30:\n",
    "    print(f'您的BMI範圍區間屬於輕度肥胖，要多運動')\n",
    "elif bmi<35:\n",
    "    print(f'您的BMI範圍區間屬於中度肥胖，該注意飲食外要多加運動')\n",
    "else:  \n",
    "    print(f'您的BMI範圍區間屬於重度肥胖，請與醫師與健身教練聯絡諮詢')      "
   ]
  },
  {
   "cell_type": "code",
   "execution_count": 67,
   "metadata": {},
   "outputs": [
    {
     "name": "stdout",
     "output_type": "stream",
     "text": [
      "98932682\n",
      "39773541\n",
      "77081036\n",
      "52361415\n",
      "33107608\n"
     ]
    }
   ],
   "source": [
    "##發票小城市\n",
    "##發票：AB-XXXXXXXX AB對應位置為英文數字，X為純數字\n",
    "##兌獎：由後至前核對，後三碼相同即得彩金，後四碼對應更多獎金，類推\n",
    "##建立亂數發票100張，並設置程式\"本月彩號\"8碼、5組\n",
    "from random import randint\n",
    "def ticket(piece:int)->list:\n",
    "    for i in range(0,piece):\n",
    "        num=randint(0,99999999)\n",
    "        print(num)\n",
    "\n",
    "ticket(5)\n"
   ]
  }
 ],
 "metadata": {
  "kernelspec": {
   "display_name": "Python 3",
   "language": "python",
   "name": "python3"
  },
  "language_info": {
   "codemirror_mode": {
    "name": "ipython",
    "version": 3
   },
   "file_extension": ".py",
   "mimetype": "text/x-python",
   "name": "python",
   "nbconvert_exporter": "python",
   "pygments_lexer": "ipython3",
   "version": "3.10.13"
  }
 },
 "nbformat": 4,
 "nbformat_minor": 2
}
