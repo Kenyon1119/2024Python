{
 "cells": [
  {
   "cell_type": "code",
   "execution_count": 56,
   "metadata": {},
   "outputs": [
    {
     "name": "stdout",
     "output_type": "stream",
     "text": [
      "您的BMI範圍區間屬於正常\n"
     ]
    }
   ],
   "source": [
    "bmi:float=eval(input(\"請輸入您的bmi\"))\n",
    "if bmi<18.5:\n",
    "    print(f'您的BMI範圍區間屬於過輕，多吃一點補充營養')\n",
    "elif bmi<24:\n",
    "    print(f'您的BMI範圍區間屬於正常')\n",
    "elif bmi<27:\n",
    "    print(f'您的BMI範圍區間屬於過重，注意飲食')\n",
    "elif bmi<30:\n",
    "    print(f'您的BMI範圍區間屬於輕度肥胖，要多運動')\n",
    "elif bmi<35:\n",
    "    print(f'您的BMI範圍區間屬於中度肥胖，該注意飲食外要多加運動')\n",
    "else:  \n",
    "    print(f'您的BMI範圍區間屬於重度肥胖，請與醫師與健身教練聯絡諮詢')      "
   ]
  }
 ],
 "metadata": {
  "kernelspec": {
   "display_name": "Python 3",
   "language": "python",
   "name": "python3"
  },
  "language_info": {
   "codemirror_mode": {
    "name": "ipython",
    "version": 3
   },
   "file_extension": ".py",
   "mimetype": "text/x-python",
   "name": "python",
   "nbconvert_exporter": "python",
   "pygments_lexer": "ipython3",
   "version": "3.10.13"
  }
 },
 "nbformat": 4,
 "nbformat_minor": 2
}
