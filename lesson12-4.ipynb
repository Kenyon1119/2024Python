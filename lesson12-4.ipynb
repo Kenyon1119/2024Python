{
 "cells": [
  {
   "cell_type": "code",
   "execution_count": null,
   "metadata": {},
   "outputs": [],
   "source": [
    "##開啟檔案names.txt，編碼utf-8\n",
    "with open('names.txt',encoding='utf-8') as file:\n",
    "#變數names:str字串=讀檔\n",
    "    names:str=file.readlines()\n",
    "print(names)"
   ]
  },
  {
   "cell_type": "code",
   "execution_count": 14,
   "metadata": {},
   "outputs": [
    {
     "name": "stdout",
     "output_type": "stream",
     "text": [
      "['陳怡伶', '馮芳如', '蒙淑惠', '張軒宸', '陳向愛', '賴心怡', '王怡珊', '林詠斌', '陳淑娟', '崔孝憲', '林希啟', '楊韋廷', '陳文賢', '王士銘', '賴昌韻', '黃名明', '吳麗卿', '游治旺', '蔡嘉音', '黃靜怡', '黃淑芬', '龔姵君', '景歡燦', '李政成', '楊綺芬', '昌嘉洋', '李慈啟', '游倫城', '林淑安', '蔡士賢', '林世城', '林佳蓉', '柯宜臻', '傅佳琳', '林瑞喬', '林佳慧', '鍾俞禎', '劉慧君', '劉林中', '林怡偉', '余丞苓', '黃佩玲', '林建宏', '方雅慧', '林柏洋', '郭舜昇', '艾巧夫', '童建霖', '蔡至剛', '黃心航', '張凡成', '郭淑枝', '黃必琪', '楊健麟', '林建勳', '鄭琇亞', '王雅琴', '李美洋', '楊少亮', '王泓泰', '黃江旭', '王梅劭', '林佳光', '盧必妍', '林思賢', '鄧哲榮', '陳家年', '張俊傑', '洪阿惠', '陳彥治', '盧冠發', '程玫靖', '潘俊賢', '呂傑宣', '鄭孟芳', '彭茹靖', '王孝純', '吳昕婷', '朱惠儀', '盧文啟', '謝佳穎', '鄭憲定', '馮淑芬', '聶心怡', '黃志福', '馬彥文', '郭淑真', '吳欣書', '鄭佳玲', '黃健發', '胡姿婷', '林義皓', '胡芳瑜', '楊易政', '王德城', '劉依婷', '吳俐芷', '黃詩妃', '柯韋成', '鄧亭聿', '王雅慧', '陳凱翔', '藍哲嘉', '趙偉銘', '張韋成', '林向鈺', '周琬婷', '尚偉倫', '賴佳雯', '陳姵彬', '林群清', '趙家豪', '李政白', '林俊翔', '李進慧', '楊韻如', '藍姿婷', '劉嘉泰', '王柏聖', '孫宜珊', '戴萱能', '高士凱', '楊又源', '劉昀天', '王怡君', '余月修', '劉萬季', '陳信宏', '陳孝邦', '朱彥志', '陳奇瑄', '鄧淑娟', '陳逸凡', '張牧聿', '唐雪豪', '林康亮', '黃旻林', '蕭淑華', '劉雯芬', '陳美惠', '孫火清', '溫法堯', '錢欣潔', '陳倩潔', '李雅怡', '白美珍', '葉志峰', '黃佩芬', '黃麗美', '黃奎紹', '邱亭君', '詹忠光', '戚亨', '賴又琦', '林佳人', '黃善迪', '賴苑禾', '溫重意', '周怡啟', '王明昇', '羅佩樺', '陳家維', '張莉雯', '高俊男', '林冠蕙', '王品星', '吳孟穎', '黃雅慧', '馮耀中', '元延辛', '王坤安', '陳慧君', '張伊映', '林士凱', '蘇婷婷', '陳淑萍', '林玉佩', '謝貞妃', '杜儀鳳', '陳倩妮', '胡淑貞', '楊偉翔', '姜琬婷', '張雅芬', '葉祖雄', '沈心利', '彭虹屏', '余宗儒', '李立偉', '臧怡君', '吳振瑋', '陳建豪', '蕭怡伶', '周芷蓁', '黃偉剛', '黃婷婷', '郎慧萍', '林昱芳', '趙宛真', '白世宏', '杜明延', '許淑婷', '林珍旺', '蔡孟泉', '吳晴洋', '游一鈺', '朱士弘', '黃政甫', '游淑惠', '張婕妤', '陳逸華', '張天亨', '張嘉韋', '王志謙', '黎惠雯', '高信宏', '梁柏宇', '林志喜', '金宜芳', '簡國瑋', '林清英', '黃彥孝', '鄭奇翰', '李慶亮', '李蓉瑞', '張明惟', '游詩亞', '黃嘉琪', '張家秀', '吳柏誠', '陳得映', '郭致恬', '林麗萍', '陳樂紫', '翁鈺婷', '蔡世馨', '楊建安', '李湘婷', '鞠冠宇', '林志成', '陳信念', '林益妏', '蔡偉成', '王惠皓', '王筱婷', '楊火帆', '陳怡珊', '張慧君', '翁羽威', '羅幸娥', '陳俊憲', '洪奎夫', '翁均安', '吳明妮', '高智超', '王人仰', '劉旭士', '蘇凡菁', '謝哲維', '彭偉妃', '劉耿琦', '黃柏宇', '李佳彥', '唐翊修', '陳建香', '葉軍仰', '吳志宣', '林珈發', '黃翔杰', '郭坤花', '吳淑惠', '簡美君', '許芳如', '謝水儒', '陳怡容', '蔡欣汝', '王良斌', '周家銘', '張凱妮', '鄭淑珍', '陳嘉淑', '魏秋萍', '簡佳樺', '劉佳佩', '李彥伸', '陳筱涵', '蔡明平', '王展人', '方筠紹', '陳志偉', '錢佩豪', '陳冠霞', '潘英迪', '陳冠竹', '李淑芳', '謝南慧', '趙家豪', '龐皓芳', '張彥博']\n"
     ]
    }
   ],
   "source": [
    "##開啟檔案names.txt，編碼utf-8\n",
    "with open('names.txt',encoding='utf-8') as file:\n",
    "#變數names:str字串=讀檔\n",
    "    names_str:str=file.read()\n",
    "names:list[str]=names_str.split(sep=\"\\n\")\n",
    "print(names)"
   ]
  },
  {
   "cell_type": "code",
   "execution_count": 15,
   "metadata": {},
   "outputs": [
    {
     "data": {
      "text/plain": [
       "299"
      ]
     },
     "execution_count": 15,
     "metadata": {},
     "output_type": "execute_result"
    }
   ],
   "source": [
    "#姓名筆數\n",
    "len(names)"
   ]
  },
  {
   "cell_type": "code",
   "execution_count": 17,
   "metadata": {},
   "outputs": [
    {
     "data": {
      "text/plain": [
       "['陳樂紫', '陳建豪', '林士凱', '游治旺', '劉昀天']"
      ]
     },
     "execution_count": 17,
     "metadata": {},
     "output_type": "execute_result"
    }
   ],
   "source": [
    "import random\n",
    "num=5\n",
    "randomnames:list[str]=random.choices(names,k=num)\n",
    "randomnames"
   ]
  },
  {
   "cell_type": "code",
   "execution_count": 4,
   "metadata": {},
   "outputs": [
    {
     "data": {
      "text/plain": [
       "{'name': '王麒維', 'height': 180, 'weight': 74}"
      ]
     },
     "execution_count": 4,
     "metadata": {},
     "output_type": "execute_result"
    }
   ],
   "source": [
    "##person的實體，實體裡面有欄位name、有height、有weight的架構\n",
    "##filed概念:自訂class\n",
    "#實體轉成dict\n",
    "from pydantic import BaseModel\n",
    "from random import randint\n",
    "class person(BaseModel):\n",
    "    name:str\n",
    "    height:int\n",
    "    weight:int\n",
    "p1=person(name='王麒維',height=randint(150,195),weight=randint(40,100))\n",
    "p1.model_dump()            "
   ]
  },
  {
   "cell_type": "code",
   "execution_count": 11,
   "metadata": {},
   "outputs": [
    {
     "data": {
      "text/plain": [
       "Person(name='徐國堂', height=178, weight=53)"
      ]
     },
     "execution_count": 11,
     "metadata": {},
     "output_type": "execute_result"
    }
   ],
   "source": [
    "##person的實體，實體裡面有欄位name、有height、有weight的架構\n",
    "##filed概念:自訂class\n",
    "#實體轉成dict\n",
    "\n",
    "from pydantic import BaseModel\n",
    "from random import randint\n",
    "\n",
    "class Person(BaseModel):\n",
    "    name:str\n",
    "    height:int\n",
    "    weight:int\n",
    "\n",
    "#實體->dict\n",
    "p1 = Person(name='徐國堂',height=randint(150,195),weight=randint(50,110))\n",
    "p1.model_dump()\n",
    "\n",
    "#dict->實體\n",
    "p2 = Person.model_validate({'name':'徐國堂',\n",
    "                       'height':randint(150,195),\n",
    "                       'weight':randint(50,110)})\n",
    "p2"
   ]
  },
  {
   "cell_type": "code",
   "execution_count": 12,
   "metadata": {},
   "outputs": [
    {
     "ename": "NameError",
     "evalue": "name 'randomnames' is not defined",
     "output_type": "error",
     "traceback": [
      "\u001b[0;31m---------------------------------------------------------------------------\u001b[0m",
      "\u001b[0;31mNameError\u001b[0m                                 Traceback (most recent call last)",
      "Cell \u001b[0;32mIn[12], line 2\u001b[0m\n\u001b[1;32m      1\u001b[0m persons:\u001b[38;5;28mlist\u001b[39m[Person] \u001b[38;5;241m=\u001b[39m []\n\u001b[0;32m----> 2\u001b[0m \u001b[38;5;28;01mfor\u001b[39;00m name \u001b[38;5;129;01min\u001b[39;00m \u001b[43mrandomnames\u001b[49m:\n\u001b[1;32m      3\u001b[0m     person \u001b[38;5;241m=\u001b[39m Person(name\u001b[38;5;241m=\u001b[39mname,\n\u001b[1;32m      4\u001b[0m            height\u001b[38;5;241m=\u001b[39mrandint(\u001b[38;5;241m130\u001b[39m,\u001b[38;5;241m200\u001b[39m),\n\u001b[1;32m      5\u001b[0m            weight\u001b[38;5;241m=\u001b[39mrandint(\u001b[38;5;241m40\u001b[39m,\u001b[38;5;241m110\u001b[39m))\n\u001b[1;32m      6\u001b[0m     persons\u001b[38;5;241m.\u001b[39mappend(person)\n",
      "\u001b[0;31mNameError\u001b[0m: name 'randomnames' is not defined"
     ]
    }
   ],
   "source": [
    "persons:list[Person] = []\n",
    "for name in randomnames:\n",
    "    person = Person(name=name,\n",
    "           height=randint(130,200),\n",
    "           weight=randint(40,110))\n",
    "    persons.append(person)\n",
    "persons"
   ]
  }
 ],
 "metadata": {
  "kernelspec": {
   "display_name": "Python 3",
   "language": "python",
   "name": "python3"
  },
  "language_info": {
   "codemirror_mode": {
    "name": "ipython",
    "version": 3
   },
   "file_extension": ".py",
   "mimetype": "text/x-python",
   "name": "python",
   "nbconvert_exporter": "python",
   "pygments_lexer": "ipython3",
   "version": "3.10.13"
  }
 },
 "nbformat": 4,
 "nbformat_minor": 2
}
