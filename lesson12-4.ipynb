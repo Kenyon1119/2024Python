{
 "cells": [
  {
   "cell_type": "code",
   "execution_count": null,
   "metadata": {},
   "outputs": [],
   "source": [
    "with open('names.txt',encoding='utf-8') as file:\n",
    "    names:str=file.readlines()\n",
    "print(names)"
   ]
  },
  {
   "cell_type": "code",
   "execution_count": null,
   "metadata": {},
   "outputs": [],
   "source": [
    "with open('names.txt',encoding='utf-8') as file:\n",
    "    names_str:str=file.read()\n",
    "names:list[str]=names_str.split(sep=\"\\n\")\n"
   ]
  },
  {
   "cell_type": "code",
   "execution_count": null,
   "metadata": {},
   "outputs": [],
   "source": [
    "len(names)"
   ]
  },
  {
   "cell_type": "code",
   "execution_count": null,
   "metadata": {},
   "outputs": [],
   "source": [
    "import random\n",
    "num=50\n",
    "randomnames:list[str]=random.choices(names,k=num)\n",
    "randomnames"
   ]
  },
  {
   "cell_type": "code",
   "execution_count": 53,
   "metadata": {},
   "outputs": [
    {
     "data": {
      "text/plain": [
       "{'name': '王麒維', 'height': 185, 'weight': 89}"
      ]
     },
     "execution_count": 53,
     "metadata": {},
     "output_type": "execute_result"
    }
   ],
   "source": [
    "##person的實體，實體裡面有欄位name、有height、有weight的架構\n",
    "##filed概念:自訂class\n",
    "#實體轉成dict\n",
    "from pydantic import BaseModel\n",
    "from random import randint\n",
    "class person(BaseModel):\n",
    "    name:str\n",
    "    height:int\n",
    "    weight:int\n",
    "p1=person(name='王麒維',height=randint(150,195),weight=randint(40,100))\n",
    "p1.model_dump()            "
   ]
  },
  {
   "cell_type": "code",
   "execution_count": 77,
   "metadata": {},
   "outputs": [
    {
     "data": {
      "text/plain": [
       "Person(name='徐國堂', height=168, weight=52)"
      ]
     },
     "execution_count": 77,
     "metadata": {},
     "output_type": "execute_result"
    }
   ],
   "source": [
    "##person的實體，實體裡面有欄位name、有height、有weight的架構\n",
    "##filed概念:自訂class\n",
    "#實體轉成dict\n",
    "\n",
    "from pydantic import BaseModel\n",
    "from random import randint\n",
    "\n",
    "class Person(BaseModel):\n",
    "    name:str\n",
    "    height:int\n",
    "    weight:int\n",
    "\n",
    "#實體->dict\n",
    "p1 = Person(name='徐國堂',height=randint(150,195),weight=randint(50,110))\n",
    "p1.model_dump()\n",
    "\n",
    "#dict->實體\n",
    "p2 = Person.model_validate({'name':'徐國堂',\n",
    "                       'height':randint(150,195),\n",
    "                       'weight':randint(50,110)})\n",
    "p2"
   ]
  },
  {
   "cell_type": "code",
   "execution_count": 80,
   "metadata": {},
   "outputs": [
    {
     "data": {
      "text/plain": [
       "[Person(name='陳逸凡', height=169, weight=60),\n",
       " Person(name='蔡明平', height=178, weight=99),\n",
       " Person(name='黃健發', height=157, weight=84),\n",
       " Person(name='賴又琦', height=187, weight=63),\n",
       " Person(name='張雅芬', height=159, weight=81),\n",
       " Person(name='柯宜臻', height=187, weight=90),\n",
       " Person(name='李政成', height=178, weight=69),\n",
       " Person(name='童建霖', height=175, weight=56),\n",
       " Person(name='黃柏宇', height=169, weight=50),\n",
       " Person(name='傅佳琳', height=150, weight=73),\n",
       " Person(name='黃奎紹', height=177, weight=70),\n",
       " Person(name='黃彥孝', height=169, weight=106),\n",
       " Person(name='黃旻林', height=172, weight=66),\n",
       " Person(name='黃麗美', height=163, weight=69),\n",
       " Person(name='高俊男', height=187, weight=74),\n",
       " Person(name='許芳如', height=184, weight=97),\n",
       " Person(name='林志成', height=183, weight=65),\n",
       " Person(name='楊偉翔', height=172, weight=68),\n",
       " Person(name='林佳光', height=174, weight=55),\n",
       " Person(name='陳姵彬', height=173, weight=59),\n",
       " Person(name='呂傑宣', height=182, weight=76),\n",
       " Person(name='藍哲嘉', height=173, weight=71),\n",
       " Person(name='王志謙', height=190, weight=106),\n",
       " Person(name='謝貞妃', height=169, weight=62),\n",
       " Person(name='聶心怡', height=171, weight=73),\n",
       " Person(name='李立偉', height=194, weight=83),\n",
       " Person(name='張俊傑', height=184, weight=80),\n",
       " Person(name='林玉佩', height=168, weight=91),\n",
       " Person(name='陳淑萍', height=178, weight=68),\n",
       " Person(name='楊韻如', height=170, weight=83),\n",
       " Person(name='李雅怡', height=176, weight=107),\n",
       " Person(name='唐雪豪', height=160, weight=75),\n",
       " Person(name='楊建安', height=176, weight=85),\n",
       " Person(name='賴佳雯', height=152, weight=109),\n",
       " Person(name='王怡君', height=162, weight=69),\n",
       " Person(name='童建霖', height=190, weight=98),\n",
       " Person(name='李湘婷', height=167, weight=51),\n",
       " Person(name='林志喜', height=194, weight=55),\n",
       " Person(name='張俊傑', height=179, weight=82),\n",
       " Person(name='趙家豪', height=154, weight=105),\n",
       " Person(name='楊易政', height=178, weight=55),\n",
       " Person(name='柯宜臻', height=152, weight=69),\n",
       " Person(name='黃志福', height=166, weight=58),\n",
       " Person(name='高士凱', height=178, weight=76),\n",
       " Person(name='彭偉妃', height=151, weight=63),\n",
       " Person(name='劉慧君', height=156, weight=106),\n",
       " Person(name='黃奎紹', height=168, weight=53),\n",
       " Person(name='張軒宸', height=184, weight=56),\n",
       " Person(name='王柏聖', height=173, weight=82),\n",
       " Person(name='黃嘉琪', height=158, weight=104)]"
      ]
     },
     "execution_count": 80,
     "metadata": {},
     "output_type": "execute_result"
    }
   ],
   "source": [
    "persons:list[Person] = []\n",
    "for name in randomnames:\n",
    "    person = Person(name=name,\n",
    "           height=randint(150,195),\n",
    "           weight=randint(50,110))\n",
    "    persons.append(person)\n",
    "persons"
   ]
  }
 ],
 "metadata": {
  "kernelspec": {
   "display_name": "Python 3",
   "language": "python",
   "name": "python3"
  },
  "language_info": {
   "codemirror_mode": {
    "name": "ipython",
    "version": 3
   },
   "file_extension": ".py",
   "mimetype": "text/x-python",
   "name": "python",
   "nbconvert_exporter": "python",
   "pygments_lexer": "ipython3",
   "version": "3.10.13"
  }
 },
 "nbformat": 4,
 "nbformat_minor": 2
}
