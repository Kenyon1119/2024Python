{
 "cells": [
  {
   "cell_type": "code",
   "execution_count": 2,
   "metadata": {},
   "outputs": [],
   "source": [
    "students=[{'國文': 55, '數學': 92, '英文': 66},\n",
    "          {'國文': 90, '數學': 52, '英文': 74},\n",
    "          {'國文': 62, '數學': 66, '英文': 73},\n",
    "          {'國文': 82, '數學': 97, '英文': 77},\n",
    "          {'國文': 90, '數學': 59, '英文': 91},\n",
    "          {'國文': 65, '數學': 50, '英文': 64},\n",
    "          {'國文': 55, '數學': 88, '英文': 65},\n",
    "          {'國文': 100, '數學': 55, '英文': 94},\n",
    "          {'國文': 56, '數學': 55, '英文': 84},\n",
    "          {'國文': 76, '數學': 76, '英文': 81},\n",
    "          {'國文': 73, '數學': 61, '英文': 97},\n",
    "          {'國文': 61, '數學': 80, '英文': 50},\n",
    "          {'國文': 75, '數學': 98, '英文': 84}]\n",
    "#選取後tab會共同縮排！\n"
   ]
  },
  {
   "cell_type": "code",
   "execution_count": 7,
   "metadata": {},
   "outputs": [
    {
     "name": "stdout",
     "output_type": "stream",
     "text": [
      "students.csv存檔完成\n"
     ]
    }
   ],
   "source": [
    "#open()，file物件實體使用open內建function\n",
    "#csv module 建立實體(初始化initializer)\n",
    "\n",
    "import csv\n",
    "\n",
    "#建立file實體，這個實體會自動關閉close()->with...as\n",
    "with open('students.csv',mode='w',encoding='utf-8',newline='') as csvfile:\n",
    "    writer=csv.DictWriter(csvfile,fieldnames=['國文','數學','英文'])\n",
    "    writer.writeheader()\n",
    "    writer.writerows(students)\n",
    "\n",
    "print('students.csv存檔完成')    \n",
    "##class csv.DictWriter()\n"
   ]
  }
 ],
 "metadata": {
  "kernelspec": {
   "display_name": "Python 3",
   "language": "python",
   "name": "python3"
  },
  "language_info": {
   "codemirror_mode": {
    "name": "ipython",
    "version": 3
   },
   "file_extension": ".py",
   "mimetype": "text/x-python",
   "name": "python",
   "nbconvert_exporter": "python",
   "pygments_lexer": "ipython3",
   "version": "3.10.13"
  }
 },
 "nbformat": 4,
 "nbformat_minor": 2
}
