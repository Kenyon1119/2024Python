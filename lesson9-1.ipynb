{
 "cells": [
  {
   "cell_type": "code",
   "execution_count": null,
   "metadata": {},
   "outputs": [],
   "source": [
    "##python內建資料結構\n",
    "##tuple-(xxx,xxx,xxxx)\n",
    "##list-[xxx,xxx,xxx]\n",
    "##dictionary-{key:value,key:valuekey:value}\n",
    "##set-{value,value,value}\n",
    "\n",
    "t1=(1,2,3,4)\n",
    "#tuple的內容不可以更改\n",
    "#sequence-順序\n",
    "#iterable-可迭代的\n",
    "##tuple 暫時儲存使用\n",
    "#最常使用拆解法，取出裡面的值\n",
    "(v1,v2,v3,v4)=t1\n",
    "\n",
    "#list是可變變數\n",
    "#sequence-順序\n",
    "#iterable-可迭代的\n",
    "l1=[7,8,9,10]\n",
    "for i in l1:\n",
    "    print(i)\n",
    "print(f'編號0:{l1[0]}') #subscript\n",
    "print(f'編號1:{l1[1]}') #subscript\n",
    "print(f'編號2:{l1[2]}') #subscript\n",
    "print(f'編號3:{l1[3]}') #subscript\n",
    "\n",
    "\n"
   ]
  },
  {
   "cell_type": "code",
   "execution_count": null,
   "metadata": {},
   "outputs": [],
   "source": [
    "#list\n",
    "#type hint ->list[int]\n",
    "#list\n",
    "#type hint -> list[int]\n",
    "empty_list:list[int] = []\n",
    "empty_list:list[str] = list()\n",
    "weekday: list[str] = ['星期一', '星期二', '星期三', '星期四', '星期五', '星期六', '星期日']\n",
    "big_birds: list[str] = ['emu', 'ostrich', 'cassowary']\n",
    "print(empty_list)\n",
    "print(weekday)\n",
    "print(big_birds)\n",
    "#可變變數\n",
    "weekday[6] = 'sunday'\n",
    "weekday\n",
    "for day in weekday:\n",
    "    print(day)\n",
    "#傳出tuple\n",
    "#使用拆解法\n",
    "for index,value in enumerate(weekday):\n",
    "    print(f'索引編號:{index},值是:{value}')"
   ]
  },
  {
   "cell_type": "code",
   "execution_count": 34,
   "metadata": {},
   "outputs": [
    {
     "data": {
      "text/plain": [
       "['h', 'e', 'l', 'l', 'o', ',', 'w', 'o', 'r', 'l', 'd']"
      ]
     },
     "execution_count": 34,
     "metadata": {},
     "output_type": "execute_result"
    }
   ],
   "source": [
    "##sequence\n",
    "#iterable\n",
    "#不可變變數:int,float,str,boolen,tuple[可替換，不可變]\n",
    "'hello,world'\n",
    "list1=list('hello,world')\n",
    "list1"
   ]
  },
  {
   "cell_type": "code",
   "execution_count": 45,
   "metadata": {},
   "outputs": [
    {
     "name": "stdout",
     "output_type": "stream",
     "text": [
      "第0號物件是h\n",
      "第5號物件是,\n",
      "第0號物件，到第4號物件#不包含物件5['h', 'e', 'l', 'l', 'o']\n",
      "第1號物件，到第4號物件#不包含物件5['e', 'l', 'l', 'o']\n",
      "開始，到第4號物件#不包含物件5['h', 'e', 'l', 'l', 'o']\n",
      "倒數第5號物件，到倒數第2號物件#不包含倒數最後一件['w', 'o', 'r', 'l']\n",
      "倒數第5號物件，到最後['w', 'o', 'r', 'l', 'd']\n"
     ]
    }
   ],
   "source": [
    "##索引編號取出值,subscript[索引編號]\n",
    "print(f'第0號物件是{list1[0]}') #取出索引編號\n",
    "print(f'第5號物件是{list1[5]}') #取出索引編號\n",
    "print(f'第0號物件，到第4號物件#不包含物件5{list1[0:5]}')#不包含物件5\n",
    "print(f'第1號物件，到第4號物件#不包含物件5{list1[1:5]}')#不包含物件5\n",
    "print(f'開始，到第4號物件#不包含物件5{list1[:5]}')#自開始到不包含物件5\n",
    "print(f'倒數第5號物件，到倒數第2號物件#不包含倒數最後一件{list1[-5:-1]}')#自開始到不包含倒數最後一件\n",
    "print(f'倒數第5號物件，到最後{list1[-5:]}')#自開始到最後一件\n",
    "\n",
    "\n"
   ]
  }
 ],
 "metadata": {
  "kernelspec": {
   "display_name": "Python 3",
   "language": "python",
   "name": "python3"
  },
  "language_info": {
   "codemirror_mode": {
    "name": "ipython",
    "version": 3
   },
   "file_extension": ".py",
   "mimetype": "text/x-python",
   "name": "python",
   "nbconvert_exporter": "python",
   "pygments_lexer": "ipython3",
   "version": "3.10.13"
  }
 },
 "nbformat": 4,
 "nbformat_minor": 2
}
