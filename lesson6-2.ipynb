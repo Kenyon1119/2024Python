{
 "cells": [
  {
   "cell_type": "code",
   "execution_count": 23,
   "metadata": {},
   "outputs": [
    {
     "name": "stdout",
     "output_type": "stream",
     "text": [
      "您的身高為:174.00公分，體重是:120.00公斤\n",
      "您的BMI值為:39.64\n",
      "您的BMI範圍區間屬於重度肥胖，請與醫師與健身教練聯絡諮詢\n"
     ]
    }
   ],
   "source": [
    "#作業\n",
    "#檢查輸入的範圍\n",
    "#try...except...\n",
    "#輸出錯誤訊息\n",
    "\n",
    "height=eval(input(\"請輸入您的身高 ( 120~250 cm)\"))\n",
    "weight=eval(input(\"請輸入您的體重 (  30~250 kg)\"))\n",
    "#BMI計算公式： BMI=體重(公斤)/身高平方(平方公尺)\n",
    "bmi=weight/((height/100)**2)\n",
    "print(f'您的身高為:{height:.2f}公分，體重是:{weight:.2f}公斤')\n",
    "print(f'您的BMI值為:{bmi:.2f}')\n",
    "if bmi>=24:\n",
    "    if bmi>27:\n",
    "        if bmi>30:\n",
    "            if bmi>35:\n",
    "                print(f'您的BMI範圍區間屬於重度肥胖，請與醫師與健身教練聯絡諮詢')\n",
    "            else:\n",
    "                print(f'您的BMI範圍區間屬於中度肥胖，該注意飲食外要多加運動')\n",
    "        else:\n",
    "            print(f'您的BMI範圍區間屬於輕度肥胖，要多加運動')    \n",
    "    else:\n",
    "        print(f'您的BMI範圍區間過重，該注意飲食')\n",
    "else:\n",
    "    print(f'您的BMI範圍區間屬於正常或偏瘦')\n",
    "\n",
    "\n"
   ]
  }
 ],
 "metadata": {
  "kernelspec": {
   "display_name": "Python 3",
   "language": "python",
   "name": "python3"
  },
  "language_info": {
   "codemirror_mode": {
    "name": "ipython",
    "version": 3
   },
   "file_extension": ".py",
   "mimetype": "text/x-python",
   "name": "python",
   "nbconvert_exporter": "python",
   "pygments_lexer": "ipython3",
   "version": "3.10.13"
  }
 },
 "nbformat": 4,
 "nbformat_minor": 2
}
