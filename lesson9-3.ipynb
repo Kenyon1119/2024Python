{
 "cells": [
  {
   "cell_type": "code",
   "execution_count": 4,
   "metadata": {},
   "outputs": [
    {
     "name": "stdout",
     "output_type": "stream",
     "text": [
      "[['筆記電腦', '商用筆電', '電競筆電'], ['APPLE', 'ASUS', 'HTC'], ['冰箱', '洗衣機', '電視']]\n"
     ]
    }
   ],
   "source": [
    "from pprint import pprint\n",
    "nb = ['筆記電腦', '商用筆電','電競筆電']\n",
    "mobile = ['APPLE', 'ASUS', 'HTC'] \n",
    "home = ['冰箱','洗衣機','電視']\n",
    "all3c = [nb, mobile, home]\n",
    "pprint(all3c)"
   ]
  },
  {
   "cell_type": "code",
   "execution_count": 7,
   "metadata": {},
   "outputs": [
    {
     "data": {
      "text/plain": [
       "[['冰箱', '洗衣機', '電視'], ['APPLE', 'ASUS', 'HTC'], ['筆記電腦', '商用筆電', '電競筆電']]"
      ]
     },
     "execution_count": 7,
     "metadata": {},
     "output_type": "execute_result"
    }
   ],
   "source": [
    "all3c:list[list[str]]=[]\n",
    "all3c.append(nb)\n",
    "all3c.append(mobile)\n",
    "all3c.append(home)\n",
    "all3c\n",
    "all3c.reverse()\n",
    "all3c"
   ]
  },
  {
   "cell_type": "code",
   "execution_count": 9,
   "metadata": {},
   "outputs": [
    {
     "data": {
      "text/plain": [
       "[61, 57, 50, 52, 85]"
      ]
     },
     "execution_count": 9,
     "metadata": {},
     "output_type": "execute_result"
    }
   ],
   "source": [
    "from random import randint\n",
    "stu1:list[int]=[randint(50,100),randint(50,100),randint(50,100),randint(50,100),randint(50,100)]\n",
    "stu1"
   ]
  },
  {
   "cell_type": "code",
   "execution_count": 13,
   "metadata": {},
   "outputs": [
    {
     "data": {
      "text/plain": [
       "[100, 57, 99, 67, 58]"
      ]
     },
     "execution_count": 13,
     "metadata": {},
     "output_type": "execute_result"
    }
   ],
   "source": [
    "stu2:list[int]=[]\n",
    "for i in range(5):\n",
    "    stu2.append(randint(50,100))\n",
    "stu2"
   ]
  },
  {
   "cell_type": "code",
   "execution_count": 14,
   "metadata": {},
   "outputs": [
    {
     "data": {
      "text/plain": [
       "[97, 74, 71, 55, 63]"
      ]
     },
     "execution_count": 14,
     "metadata": {},
     "output_type": "execute_result"
    }
   ],
   "source": [
    "stu3:list[int]=[randint(50,100)for _ in range(5)]\n",
    "stu3"
   ]
  },
  {
   "cell_type": "code",
   "execution_count": 16,
   "metadata": {},
   "outputs": [
    {
     "name": "stdout",
     "output_type": "stream",
     "text": [
      "[[88, 56, 69, 99, 61],\n",
      " [53, 93, 69, 57, 55],\n",
      " [74, 73, 59, 86, 67],\n",
      " [51, 90, 84, 68, 55],\n",
      " [68, 53, 95, 98, 92],\n",
      " [51, 84, 74, 71, 59],\n",
      " [51, 64, 72, 81, 70],\n",
      " [64, 96, 89, 54, 99],\n",
      " [71, 87, 95, 94, 76],\n",
      " [55, 51, 50, 76, 58],\n",
      " [73, 66, 71, 53, 94],\n",
      " [95, 84, 83, 82, 98],\n",
      " [64, 89, 57, 53, 75],\n",
      " [98, 68, 70, 57, 67],\n",
      " [89, 52, 79, 65, 59],\n",
      " [96, 86, 73, 81, 55],\n",
      " [81, 59, 90, 51, 53],\n",
      " [63, 76, 96, 53, 89],\n",
      " [92, 80, 97, 77, 88],\n",
      " [53, 99, 77, 81, 95],\n",
      " [71, 82, 53, 100, 61],\n",
      " [56, 75, 98, 59, 54],\n",
      " [71, 62, 82, 58, 58],\n",
      " [60, 77, 74, 93, 94],\n",
      " [97, 59, 65, 57, 94],\n",
      " [82, 81, 77, 65, 96],\n",
      " [72, 72, 66, 53, 85],\n",
      " [79, 86, 81, 89, 91],\n",
      " [67, 65, 72, 100, 71],\n",
      " [85, 88, 68, 52, 63],\n",
      " [83, 95, 53, 60, 90],\n",
      " [99, 94, 78, 63, 59],\n",
      " [56, 84, 69, 91, 96],\n",
      " [59, 63, 66, 52, 73],\n",
      " [66, 72, 100, 98, 70],\n",
      " [74, 61, 66, 85, 73],\n",
      " [85, 93, 50, 90, 53],\n",
      " [94, 70, 85, 56, 57],\n",
      " [78, 82, 79, 79, 51],\n",
      " [92, 92, 54, 52, 50],\n",
      " [54, 92, 58, 100, 59],\n",
      " [84, 63, 63, 66, 55],\n",
      " [100, 60, 72, 82, 89],\n",
      " [79, 83, 76, 67, 94],\n",
      " [94, 58, 66, 54, 82],\n",
      " [85, 96, 100, 76, 55],\n",
      " [68, 60, 61, 68, 67],\n",
      " [100, 92, 60, 84, 82],\n",
      " [80, 88, 60, 68, 86],\n",
      " [51, 99, 51, 80, 61]]\n"
     ]
    }
   ],
   "source": [
    "from pprint import pprint\n",
    "students:list[list[int]]=[]\n",
    "for _ in range(50):\n",
    "    stu:list[int]=[randint(50,100)for _ in range(5)]\n",
    "    students.append(stu)\n",
    "pprint(students)"
   ]
  }
 ],
 "metadata": {
  "kernelspec": {
   "display_name": "Python 3",
   "language": "python",
   "name": "python3"
  },
  "language_info": {
   "codemirror_mode": {
    "name": "ipython",
    "version": 3
   },
   "file_extension": ".py",
   "mimetype": "text/x-python",
   "name": "python",
   "nbconvert_exporter": "python",
   "pygments_lexer": "ipython3",
   "version": "3.10.13"
  }
 },
 "nbformat": 4,
 "nbformat_minor": 2
}
