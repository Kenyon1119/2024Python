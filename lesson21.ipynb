{
 "cells": [
  {
   "cell_type": "code",
   "execution_count": null,
   "metadata": {},
   "outputs": [],
   "source": [
    "import pandas as pd\n",
    "import os\n",
    "file_names:list[str] = os.listdir('縣市長')\n",
    "abs_paths:list[str] = []\n",
    "for name in file_names:\n",
    "    if '縣表' in name :\n",
    "        print(os.path.abspath(f'縣市長/{name}'))          \n",
    "        abs_paths.append(os.path.abspath(f'縣市長/{name}'))\n",
    "##下載xlrd\n",
    "for path in abs_paths:\n",
    "    display(pd.read_excel(path))"
   ]
  },
  {
   "cell_type": "code",
   "execution_count": 1,
   "metadata": {
    "metadata": {}
   },
   "outputs": [
    {
     "data": {
      "text/html": [
       "<div>\n",
       "<style scoped>\n",
       "    .dataframe tbody tr th:only-of-type {\n",
       "        vertical-align: middle;\n",
       "    }\n",
       "\n",
       "    .dataframe tbody tr th {\n",
       "        vertical-align: top;\n",
       "    }\n",
       "\n",
       "    .dataframe thead th {\n",
       "        text-align: right;\n",
       "    }\n",
       "</style>\n",
       "<table border=\"1\" class=\"dataframe\">\n",
       "  <thead>\n",
       "    <tr style=\"text-align: right;\">\n",
       "      <th></th>\n",
       "      <th>key1</th>\n",
       "      <th>key2</th>\n",
       "      <th>data1</th>\n",
       "      <th>data2</th>\n",
       "    </tr>\n",
       "  </thead>\n",
       "  <tbody>\n",
       "    <tr>\n",
       "      <th>0</th>\n",
       "      <td>a</td>\n",
       "      <td>one</td>\n",
       "      <td>0.164137</td>\n",
       "      <td>-0.471605</td>\n",
       "    </tr>\n",
       "    <tr>\n",
       "      <th>1</th>\n",
       "      <td>a</td>\n",
       "      <td>two</td>\n",
       "      <td>-0.344940</td>\n",
       "      <td>0.425334</td>\n",
       "    </tr>\n",
       "    <tr>\n",
       "      <th>2</th>\n",
       "      <td>b</td>\n",
       "      <td>one</td>\n",
       "      <td>-0.472755</td>\n",
       "      <td>-0.138675</td>\n",
       "    </tr>\n",
       "    <tr>\n",
       "      <th>3</th>\n",
       "      <td>b</td>\n",
       "      <td>two</td>\n",
       "      <td>-2.156823</td>\n",
       "      <td>-0.322679</td>\n",
       "    </tr>\n",
       "    <tr>\n",
       "      <th>4</th>\n",
       "      <td>a</td>\n",
       "      <td>one</td>\n",
       "      <td>-2.381715</td>\n",
       "      <td>-0.196867</td>\n",
       "    </tr>\n",
       "  </tbody>\n",
       "</table>\n",
       "</div>"
      ],
      "text/plain": [
       "  key1 key2     data1     data2\n",
       "0    a  one  0.164137 -0.471605\n",
       "1    a  two -0.344940  0.425334\n",
       "2    b  one -0.472755 -0.138675\n",
       "3    b  two -2.156823 -0.322679\n",
       "4    a  one -2.381715 -0.196867"
      ]
     },
     "execution_count": 1,
     "metadata": {},
     "output_type": "execute_result"
    }
   ],
   "source": [
    "import numpy as np\n",
    "import pandas as pd\n",
    "\n",
    "df = pd.DataFrame({'key1':['a', 'a', 'b', 'b', 'a'],\n",
    "                  'key2':['one', 'two', 'one', 'two', 'one'],\n",
    "                  'data1': np.random.randn(5),\n",
    "                  'data2':np.random.randn(5)})\n",
    "df"
   ]
  },
  {
   "cell_type": "code",
   "execution_count": 2,
   "metadata": {
    "metadata": {}
   },
   "outputs": [
    {
     "data": {
      "text/plain": [
       "0    0.164137\n",
       "1   -0.344940\n",
       "2   -0.472755\n",
       "3   -2.156823\n",
       "4   -2.381715\n",
       "Name: data1, dtype: float64"
      ]
     },
     "execution_count": 2,
     "metadata": {},
     "output_type": "execute_result"
    }
   ],
   "source": [
    "\n",
    "#Series的groupby()\n",
    "df['data1']"
   ]
  },
  {
   "cell_type": "code",
   "execution_count": 3,
   "metadata": {
    "metadata": {}
   },
   "outputs": [
    {
     "data": {
      "text/plain": [
       "0    a\n",
       "1    a\n",
       "2    b\n",
       "3    b\n",
       "4    a\n",
       "Name: key1, dtype: object"
      ]
     },
     "execution_count": 3,
     "metadata": {},
     "output_type": "execute_result"
    }
   ],
   "source": [
    "df['key1']"
   ]
  },
  {
   "cell_type": "code",
   "execution_count": 4,
   "metadata": {
    "metadata": {}
   },
   "outputs": [
    {
     "data": {
      "text/plain": [
       "key1\n",
       "a   -2.562517\n",
       "b   -2.629577\n",
       "Name: data1, dtype: float64"
      ]
     },
     "execution_count": 4,
     "metadata": {},
     "output_type": "execute_result"
    }
   ],
   "source": [
    "df['data1'].groupby(df['key1']).sum()\n"
   ]
  },
  {
   "cell_type": "code",
   "execution_count": 5,
   "metadata": {
    "metadata": {}
   },
   "outputs": [
    {
     "data": {
      "text/plain": [
       "key1\n",
       "a   -0.854172\n",
       "b   -1.314789\n",
       "Name: data1, dtype: float64"
      ]
     },
     "execution_count": 5,
     "metadata": {},
     "output_type": "execute_result"
    }
   ],
   "source": [
    "df['data1'].groupby(df['key1']).mean()\n"
   ]
  },
  {
   "cell_type": "code",
   "execution_count": 6,
   "metadata": {
    "metadata": {}
   },
   "outputs": [
    {
     "data": {
      "text/plain": [
       "key1\n",
       "a   -2.562517\n",
       "b   -2.629577\n",
       "Name: data1, dtype: float64"
      ]
     },
     "execution_count": 6,
     "metadata": {},
     "output_type": "execute_result"
    }
   ],
   "source": [
    "df.groupby('key1')['data1'].sum()\n"
   ]
  },
  {
   "cell_type": "code",
   "execution_count": 7,
   "metadata": {
    "metadata": {}
   },
   "outputs": [
    {
     "data": {
      "text/plain": [
       "key1\n",
       "a   -0.243139\n",
       "b   -0.461354\n",
       "Name: data2, dtype: float64"
      ]
     },
     "execution_count": 7,
     "metadata": {},
     "output_type": "execute_result"
    }
   ],
   "source": [
    "df.groupby('key1')['data2'].sum()\n"
   ]
  },
  {
   "cell_type": "code",
   "execution_count": 8,
   "metadata": {
    "metadata": {}
   },
   "outputs": [
    {
     "data": {
      "text/html": [
       "<div>\n",
       "<style scoped>\n",
       "    .dataframe tbody tr th:only-of-type {\n",
       "        vertical-align: middle;\n",
       "    }\n",
       "\n",
       "    .dataframe tbody tr th {\n",
       "        vertical-align: top;\n",
       "    }\n",
       "\n",
       "    .dataframe thead th {\n",
       "        text-align: right;\n",
       "    }\n",
       "</style>\n",
       "<table border=\"1\" class=\"dataframe\">\n",
       "  <thead>\n",
       "    <tr style=\"text-align: right;\">\n",
       "      <th></th>\n",
       "      <th>data1</th>\n",
       "      <th>data2</th>\n",
       "    </tr>\n",
       "    <tr>\n",
       "      <th>key1</th>\n",
       "      <th></th>\n",
       "      <th></th>\n",
       "    </tr>\n",
       "  </thead>\n",
       "  <tbody>\n",
       "    <tr>\n",
       "      <th>a</th>\n",
       "      <td>-2.562517</td>\n",
       "      <td>-0.243139</td>\n",
       "    </tr>\n",
       "    <tr>\n",
       "      <th>b</th>\n",
       "      <td>-2.629577</td>\n",
       "      <td>-0.461354</td>\n",
       "    </tr>\n",
       "  </tbody>\n",
       "</table>\n",
       "</div>"
      ],
      "text/plain": [
       "         data1     data2\n",
       "key1                    \n",
       "a    -2.562517 -0.243139\n",
       "b    -2.629577 -0.461354"
      ]
     },
     "execution_count": 8,
     "metadata": {},
     "output_type": "execute_result"
    }
   ],
   "source": [
    "df.groupby('key1')[['data1','data2']].sum()\n"
   ]
  },
  {
   "cell_type": "code",
   "execution_count": 9,
   "metadata": {
    "metadata": {}
   },
   "outputs": [],
   "source": [
    "\n",
    "import pandas as pd\n",
    "\n",
    "df = pd.read_csv('台鐵進站出站人數.csv')"
   ]
  },
  {
   "cell_type": "code",
   "execution_count": 10,
   "metadata": {
    "metadata": {}
   },
   "outputs": [
    {
     "name": "stdout",
     "output_type": "stream",
     "text": [
      "<class 'pandas.core.frame.DataFrame'>\n",
      "RangeIndex: 406761 entries, 0 to 406760\n",
      "Data columns (total 4 columns):\n",
      " #   Column  Non-Null Count   Dtype \n",
      "---  ------  --------------   ----- \n",
      " 0   日期      406761 non-null  object\n",
      " 1   站名      405059 non-null  object\n",
      " 2   進站      406761 non-null  int64 \n",
      " 3   出站      406761 non-null  int64 \n",
      "dtypes: int64(2), object(2)\n",
      "memory usage: 12.4+ MB\n"
     ]
    }
   ],
   "source": [
    "df.info()\n"
   ]
  },
  {
   "cell_type": "code",
   "execution_count": 11,
   "metadata": {
    "metadata": {}
   },
   "outputs": [
    {
     "name": "stdout",
     "output_type": "stream",
     "text": [
      "<class 'pandas.core.frame.DataFrame'>\n",
      "RangeIndex: 406761 entries, 0 to 406760\n",
      "Data columns (total 4 columns):\n",
      " #   Column  Non-Null Count   Dtype         \n",
      "---  ------  --------------   -----         \n",
      " 0   日期      406761 non-null  datetime64[ns]\n",
      " 1   站名      405059 non-null  object        \n",
      " 2   進站      406761 non-null  int64         \n",
      " 3   出站      406761 non-null  int64         \n",
      "dtypes: datetime64[ns](1), int64(2), object(1)\n",
      "memory usage: 12.4+ MB\n"
     ]
    }
   ],
   "source": [
    "\n",
    "df['日期'] = pd.to_datetime(df['日期'])\n",
    "df.info()"
   ]
  },
  {
   "cell_type": "code",
   "execution_count": 12,
   "metadata": {
    "metadata": {}
   },
   "outputs": [
    {
     "name": "stdout",
     "output_type": "stream",
     "text": [
      "<class 'pandas.core.frame.DataFrame'>\n",
      "Index: 405059 entries, 0 to 406760\n",
      "Data columns (total 4 columns):\n",
      " #   Column  Non-Null Count   Dtype         \n",
      "---  ------  --------------   -----         \n",
      " 0   日期      405059 non-null  datetime64[ns]\n",
      " 1   站名      405059 non-null  object        \n",
      " 2   進站      405059 non-null  int64         \n",
      " 3   出站      405059 non-null  int64         \n",
      "dtypes: datetime64[ns](1), int64(2), object(1)\n",
      "memory usage: 15.5+ MB\n"
     ]
    }
   ],
   "source": [
    "df1 = df.dropna()\n",
    "df1.info()"
   ]
  },
  {
   "cell_type": "code",
   "execution_count": 13,
   "metadata": {
    "metadata": {}
   },
   "outputs": [
    {
     "data": {
      "text/html": [
       "<div>\n",
       "<style scoped>\n",
       "    .dataframe tbody tr th:only-of-type {\n",
       "        vertical-align: middle;\n",
       "    }\n",
       "\n",
       "    .dataframe tbody tr th {\n",
       "        vertical-align: top;\n",
       "    }\n",
       "\n",
       "    .dataframe thead th {\n",
       "        text-align: right;\n",
       "    }\n",
       "</style>\n",
       "<table border=\"1\" class=\"dataframe\">\n",
       "  <thead>\n",
       "    <tr style=\"text-align: right;\">\n",
       "      <th></th>\n",
       "      <th>日期</th>\n",
       "      <th>站名</th>\n",
       "      <th>進站</th>\n",
       "      <th>出站</th>\n",
       "    </tr>\n",
       "  </thead>\n",
       "  <tbody>\n",
       "    <tr>\n",
       "      <th>0</th>\n",
       "      <td>2019-04-23</td>\n",
       "      <td>五權</td>\n",
       "      <td>1312</td>\n",
       "      <td>1357</td>\n",
       "    </tr>\n",
       "    <tr>\n",
       "      <th>1</th>\n",
       "      <td>2019-04-23</td>\n",
       "      <td>潭子</td>\n",
       "      <td>2373</td>\n",
       "      <td>2284</td>\n",
       "    </tr>\n",
       "    <tr>\n",
       "      <th>2</th>\n",
       "      <td>2019-04-23</td>\n",
       "      <td>頭家厝</td>\n",
       "      <td>455</td>\n",
       "      <td>476</td>\n",
       "    </tr>\n",
       "    <tr>\n",
       "      <th>3</th>\n",
       "      <td>2019-04-23</td>\n",
       "      <td>松竹</td>\n",
       "      <td>1052</td>\n",
       "      <td>1032</td>\n",
       "    </tr>\n",
       "    <tr>\n",
       "      <th>4</th>\n",
       "      <td>2019-04-23</td>\n",
       "      <td>太原</td>\n",
       "      <td>3106</td>\n",
       "      <td>3079</td>\n",
       "    </tr>\n",
       "    <tr>\n",
       "      <th>...</th>\n",
       "      <td>...</td>\n",
       "      <td>...</td>\n",
       "      <td>...</td>\n",
       "      <td>...</td>\n",
       "    </tr>\n",
       "    <tr>\n",
       "      <th>406756</th>\n",
       "      <td>2023-12-31</td>\n",
       "      <td>成功</td>\n",
       "      <td>1229</td>\n",
       "      <td>3101</td>\n",
       "    </tr>\n",
       "    <tr>\n",
       "      <th>406757</th>\n",
       "      <td>2023-12-31</td>\n",
       "      <td>彰化</td>\n",
       "      <td>19617</td>\n",
       "      <td>16699</td>\n",
       "    </tr>\n",
       "    <tr>\n",
       "      <th>406758</th>\n",
       "      <td>2023-12-31</td>\n",
       "      <td>花壇</td>\n",
       "      <td>1864</td>\n",
       "      <td>1532</td>\n",
       "    </tr>\n",
       "    <tr>\n",
       "      <th>406759</th>\n",
       "      <td>2023-12-31</td>\n",
       "      <td>潭子</td>\n",
       "      <td>3517</td>\n",
       "      <td>3091</td>\n",
       "    </tr>\n",
       "    <tr>\n",
       "      <th>406760</th>\n",
       "      <td>2023-12-31</td>\n",
       "      <td>景美</td>\n",
       "      <td>26</td>\n",
       "      <td>11</td>\n",
       "    </tr>\n",
       "  </tbody>\n",
       "</table>\n",
       "<p>405059 rows × 4 columns</p>\n",
       "</div>"
      ],
      "text/plain": [
       "               日期   站名     進站     出站\n",
       "0      2019-04-23   五權   1312   1357\n",
       "1      2019-04-23   潭子   2373   2284\n",
       "2      2019-04-23  頭家厝    455    476\n",
       "3      2019-04-23   松竹   1052   1032\n",
       "4      2019-04-23   太原   3106   3079\n",
       "...           ...  ...    ...    ...\n",
       "406756 2023-12-31   成功   1229   3101\n",
       "406757 2023-12-31   彰化  19617  16699\n",
       "406758 2023-12-31   花壇   1864   1532\n",
       "406759 2023-12-31   潭子   3517   3091\n",
       "406760 2023-12-31   景美     26     11\n",
       "\n",
       "[405059 rows x 4 columns]"
      ]
     },
     "execution_count": 13,
     "metadata": {},
     "output_type": "execute_result"
    }
   ],
   "source": [
    "df1"
   ]
  },
  {
   "cell_type": "code",
   "execution_count": 14,
   "metadata": {
    "metadata": {}
   },
   "outputs": [
    {
     "data": {
      "text/html": [
       "<div>\n",
       "<style scoped>\n",
       "    .dataframe tbody tr th:only-of-type {\n",
       "        vertical-align: middle;\n",
       "    }\n",
       "\n",
       "    .dataframe tbody tr th {\n",
       "        vertical-align: top;\n",
       "    }\n",
       "\n",
       "    .dataframe thead th {\n",
       "        text-align: right;\n",
       "    }\n",
       "</style>\n",
       "<table border=\"1\" class=\"dataframe\">\n",
       "  <thead>\n",
       "    <tr style=\"text-align: right;\">\n",
       "      <th></th>\n",
       "      <th>進站</th>\n",
       "      <th>出站</th>\n",
       "    </tr>\n",
       "    <tr>\n",
       "      <th>站名</th>\n",
       "      <th></th>\n",
       "      <th></th>\n",
       "    </tr>\n",
       "  </thead>\n",
       "  <tbody>\n",
       "    <tr>\n",
       "      <th>七堵</th>\n",
       "      <td>9044563</td>\n",
       "      <td>9115329</td>\n",
       "    </tr>\n",
       "    <tr>\n",
       "      <th>三坑</th>\n",
       "      <td>2080517</td>\n",
       "      <td>2140894</td>\n",
       "    </tr>\n",
       "    <tr>\n",
       "      <th>三塊厝</th>\n",
       "      <td>786111</td>\n",
       "      <td>824381</td>\n",
       "    </tr>\n",
       "    <tr>\n",
       "      <th>三姓橋</th>\n",
       "      <td>1760760</td>\n",
       "      <td>1594509</td>\n",
       "    </tr>\n",
       "    <tr>\n",
       "      <th>三民</th>\n",
       "      <td>12535</td>\n",
       "      <td>18652</td>\n",
       "    </tr>\n",
       "    <tr>\n",
       "      <th>...</th>\n",
       "      <td>...</td>\n",
       "      <td>...</td>\n",
       "    </tr>\n",
       "    <tr>\n",
       "      <th>鼓山</th>\n",
       "      <td>469414</td>\n",
       "      <td>476151</td>\n",
       "    </tr>\n",
       "    <tr>\n",
       "      <th>龍井</th>\n",
       "      <td>596686</td>\n",
       "      <td>589722</td>\n",
       "    </tr>\n",
       "    <tr>\n",
       "      <th>龍泉</th>\n",
       "      <td>24965</td>\n",
       "      <td>30795</td>\n",
       "    </tr>\n",
       "    <tr>\n",
       "      <th>龍港</th>\n",
       "      <td>30146</td>\n",
       "      <td>38335</td>\n",
       "    </tr>\n",
       "    <tr>\n",
       "      <th>龜山</th>\n",
       "      <td>141198</td>\n",
       "      <td>134504</td>\n",
       "    </tr>\n",
       "  </tbody>\n",
       "</table>\n",
       "<p>240 rows × 2 columns</p>\n",
       "</div>"
      ],
      "text/plain": [
       "          進站       出站\n",
       "站名                   \n",
       "七堵   9044563  9115329\n",
       "三坑   2080517  2140894\n",
       "三塊厝   786111   824381\n",
       "三姓橋  1760760  1594509\n",
       "三民     12535    18652\n",
       "..       ...      ...\n",
       "鼓山    469414   476151\n",
       "龍井    596686   589722\n",
       "龍泉     24965    30795\n",
       "龍港     30146    38335\n",
       "龜山    141198   134504\n",
       "\n",
       "[240 rows x 2 columns]"
      ]
     },
     "execution_count": 14,
     "metadata": {},
     "output_type": "execute_result"
    }
   ],
   "source": [
    "df1.groupby('站名')[['進站','出站']].sum()\n"
   ]
  },
  {
   "cell_type": "code",
   "execution_count": 15,
   "metadata": {
    "metadata": {}
   },
   "outputs": [],
   "source": [
    "all_datas:dict = dict(list(df1.groupby('站名')))\n"
   ]
  },
  {
   "cell_type": "code",
   "execution_count": 16,
   "metadata": {
    "metadata": {}
   },
   "outputs": [
    {
     "data": {
      "text/html": [
       "<div>\n",
       "<style scoped>\n",
       "    .dataframe tbody tr th:only-of-type {\n",
       "        vertical-align: middle;\n",
       "    }\n",
       "\n",
       "    .dataframe tbody tr th {\n",
       "        vertical-align: top;\n",
       "    }\n",
       "\n",
       "    .dataframe thead th {\n",
       "        text-align: right;\n",
       "    }\n",
       "</style>\n",
       "<table border=\"1\" class=\"dataframe\">\n",
       "  <thead>\n",
       "    <tr style=\"text-align: right;\">\n",
       "      <th></th>\n",
       "      <th>日期</th>\n",
       "      <th>站名</th>\n",
       "      <th>進站</th>\n",
       "      <th>出站</th>\n",
       "    </tr>\n",
       "  </thead>\n",
       "  <tbody>\n",
       "    <tr>\n",
       "      <th>231</th>\n",
       "      <td>2019-04-23</td>\n",
       "      <td>七堵</td>\n",
       "      <td>6113</td>\n",
       "      <td>6335</td>\n",
       "    </tr>\n",
       "    <tr>\n",
       "      <th>389</th>\n",
       "      <td>2019-04-24</td>\n",
       "      <td>七堵</td>\n",
       "      <td>6139</td>\n",
       "      <td>6371</td>\n",
       "    </tr>\n",
       "    <tr>\n",
       "      <th>629</th>\n",
       "      <td>2019-04-25</td>\n",
       "      <td>七堵</td>\n",
       "      <td>6083</td>\n",
       "      <td>6212</td>\n",
       "    </tr>\n",
       "    <tr>\n",
       "      <th>865</th>\n",
       "      <td>2019-04-26</td>\n",
       "      <td>七堵</td>\n",
       "      <td>6635</td>\n",
       "      <td>7042</td>\n",
       "    </tr>\n",
       "    <tr>\n",
       "      <th>1103</th>\n",
       "      <td>2019-04-27</td>\n",
       "      <td>七堵</td>\n",
       "      <td>4616</td>\n",
       "      <td>4632</td>\n",
       "    </tr>\n",
       "    <tr>\n",
       "      <th>...</th>\n",
       "      <td>...</td>\n",
       "      <td>...</td>\n",
       "      <td>...</td>\n",
       "      <td>...</td>\n",
       "    </tr>\n",
       "    <tr>\n",
       "      <th>405727</th>\n",
       "      <td>2023-12-27</td>\n",
       "      <td>七堵</td>\n",
       "      <td>6980</td>\n",
       "      <td>6970</td>\n",
       "    </tr>\n",
       "    <tr>\n",
       "      <th>405963</th>\n",
       "      <td>2023-12-28</td>\n",
       "      <td>七堵</td>\n",
       "      <td>6610</td>\n",
       "      <td>6654</td>\n",
       "    </tr>\n",
       "    <tr>\n",
       "      <th>406200</th>\n",
       "      <td>2023-12-29</td>\n",
       "      <td>七堵</td>\n",
       "      <td>7704</td>\n",
       "      <td>7741</td>\n",
       "    </tr>\n",
       "    <tr>\n",
       "      <th>406438</th>\n",
       "      <td>2023-12-30</td>\n",
       "      <td>七堵</td>\n",
       "      <td>5747</td>\n",
       "      <td>5674</td>\n",
       "    </tr>\n",
       "    <tr>\n",
       "      <th>406675</th>\n",
       "      <td>2023-12-31</td>\n",
       "      <td>七堵</td>\n",
       "      <td>5904</td>\n",
       "      <td>4922</td>\n",
       "    </tr>\n",
       "  </tbody>\n",
       "</table>\n",
       "<p>1714 rows × 4 columns</p>\n",
       "</div>"
      ],
      "text/plain": [
       "               日期  站名    進站    出站\n",
       "231    2019-04-23  七堵  6113  6335\n",
       "389    2019-04-24  七堵  6139  6371\n",
       "629    2019-04-25  七堵  6083  6212\n",
       "865    2019-04-26  七堵  6635  7042\n",
       "1103   2019-04-27  七堵  4616  4632\n",
       "...           ...  ..   ...   ...\n",
       "405727 2023-12-27  七堵  6980  6970\n",
       "405963 2023-12-28  七堵  6610  6654\n",
       "406200 2023-12-29  七堵  7704  7741\n",
       "406438 2023-12-30  七堵  5747  5674\n",
       "406675 2023-12-31  七堵  5904  4922\n",
       "\n",
       "[1714 rows x 4 columns]"
      ]
     },
     "execution_count": 16,
     "metadata": {},
     "output_type": "execute_result"
    }
   ],
   "source": [
    "all_datas['七堵']\n"
   ]
  },
  {
   "cell_type": "code",
   "execution_count": 17,
   "metadata": {
    "metadata": {}
   },
   "outputs": [
    {
     "name": "stdout",
     "output_type": "stream",
     "text": [
      "龍泉\n",
      "龍港\n",
      "龜山\n"
     ]
    }
   ],
   "source": [
    "\n",
    "for name in ['龍泉','龍港','龜山']:\n",
    "    print(name)"
   ]
  },
  {
   "cell_type": "code",
   "execution_count": 18,
   "metadata": {
    "metadata": {}
   },
   "outputs": [
    {
     "data": {
      "text/plain": [
       "{'龍泉':                日期  站名  進站   出站\n",
       " 164    2019-04-23  龍泉   8   12\n",
       " 420    2019-04-24  龍泉   8    7\n",
       " 659    2019-04-25  龍泉  10    8\n",
       " 896    2019-04-26  龍泉  18   16\n",
       " 1133   2019-04-27  龍泉  16   28\n",
       " ...           ...  ..  ..  ...\n",
       " 405757 2023-12-27  龍泉  14   23\n",
       " 405991 2023-12-28  龍泉  11   38\n",
       " 406230 2023-12-29  龍泉  16   72\n",
       " 406467 2023-12-30  龍泉  27  256\n",
       " 406707 2023-12-31  龍泉  41  271\n",
       " \n",
       " [1712 rows x 4 columns],\n",
       " '龍港':                日期  站名  進站  出站\n",
       " 38     2019-04-23  龍港  27  22\n",
       " 376    2019-04-24  龍港  15  18\n",
       " 616    2019-04-25  龍港  24  25\n",
       " 852    2019-04-26  龍港  26  27\n",
       " 1089   2019-04-27  龍港  19  32\n",
       " ...           ...  ..  ..  ..\n",
       " 405712 2023-12-27  龍港  26  22\n",
       " 405950 2023-12-28  龍港  30  32\n",
       " 406186 2023-12-29  龍港  34  35\n",
       " 406425 2023-12-30  龍港  65  51\n",
       " 406663 2023-12-31  龍港  29  61\n",
       " \n",
       " [1713 rows x 4 columns],\n",
       " '龜山':                日期  站名   進站   出站\n",
       " 64     2019-04-23  龜山   77   96\n",
       " 302    2019-04-24  龜山   96  102\n",
       " 540    2019-04-25  龜山  182  160\n",
       " 777    2019-04-26  龜山   98  122\n",
       " 1015   2019-04-27  龜山   75   72\n",
       " ...           ...  ..  ...  ...\n",
       " 405637 2023-12-27  龜山  141   74\n",
       " 405873 2023-12-28  龜山   52   48\n",
       " 406111 2023-12-29  龜山  121  114\n",
       " 406349 2023-12-30  龜山  226  146\n",
       " 406548 2023-12-31  龜山  214  159\n",
       " \n",
       " [1714 rows x 4 columns]}"
      ]
     },
     "execution_count": 18,
     "metadata": {},
     "output_type": "execute_result"
    }
   ],
   "source": [
    "{name:all_datas[name] for name in ['龍泉','龍港','龜山']}\n"
   ]
  },
  {
   "cell_type": "code",
   "execution_count": 22,
   "metadata": {
    "metadata": {}
   },
   "outputs": [
    {
     "data": {
      "text/html": [
       "<div>\n",
       "<style scoped>\n",
       "    .dataframe tbody tr th:only-of-type {\n",
       "        vertical-align: middle;\n",
       "    }\n",
       "\n",
       "    .dataframe tbody tr th {\n",
       "        vertical-align: top;\n",
       "    }\n",
       "\n",
       "    .dataframe thead tr th {\n",
       "        text-align: left;\n",
       "    }\n",
       "\n",
       "    .dataframe thead tr:last-of-type th {\n",
       "        text-align: right;\n",
       "    }\n",
       "</style>\n",
       "<table border=\"1\" class=\"dataframe\">\n",
       "  <thead>\n",
       "    <tr>\n",
       "      <th></th>\n",
       "      <th colspan=\"4\" halign=\"left\">進站</th>\n",
       "      <th colspan=\"4\" halign=\"left\">出站</th>\n",
       "    </tr>\n",
       "    <tr>\n",
       "      <th></th>\n",
       "      <th>總數</th>\n",
       "      <th>平均人數</th>\n",
       "      <th>最多</th>\n",
       "      <th>最少</th>\n",
       "      <th>總數</th>\n",
       "      <th>平均人數</th>\n",
       "      <th>最多</th>\n",
       "      <th>最少</th>\n",
       "    </tr>\n",
       "    <tr>\n",
       "      <th>站名</th>\n",
       "      <th></th>\n",
       "      <th></th>\n",
       "      <th></th>\n",
       "      <th></th>\n",
       "      <th></th>\n",
       "      <th></th>\n",
       "      <th></th>\n",
       "      <th></th>\n",
       "    </tr>\n",
       "  </thead>\n",
       "  <tbody>\n",
       "    <tr>\n",
       "      <th>七堵</th>\n",
       "      <td>9044563</td>\n",
       "      <td>5276.874562</td>\n",
       "      <td>7704</td>\n",
       "      <td>141</td>\n",
       "      <td>9115329</td>\n",
       "      <td>5318.161610</td>\n",
       "      <td>8288</td>\n",
       "      <td>210</td>\n",
       "    </tr>\n",
       "    <tr>\n",
       "      <th>三坑</th>\n",
       "      <td>2080517</td>\n",
       "      <td>1213.837223</td>\n",
       "      <td>1715</td>\n",
       "      <td>34</td>\n",
       "      <td>2140894</td>\n",
       "      <td>1249.063011</td>\n",
       "      <td>1835</td>\n",
       "      <td>31</td>\n",
       "    </tr>\n",
       "    <tr>\n",
       "      <th>三塊厝</th>\n",
       "      <td>786111</td>\n",
       "      <td>458.641190</td>\n",
       "      <td>933</td>\n",
       "      <td>16</td>\n",
       "      <td>824381</td>\n",
       "      <td>480.969078</td>\n",
       "      <td>1013</td>\n",
       "      <td>15</td>\n",
       "    </tr>\n",
       "    <tr>\n",
       "      <th>三姓橋</th>\n",
       "      <td>1760760</td>\n",
       "      <td>1027.281214</td>\n",
       "      <td>2125</td>\n",
       "      <td>3</td>\n",
       "      <td>1594509</td>\n",
       "      <td>930.285298</td>\n",
       "      <td>1603</td>\n",
       "      <td>16</td>\n",
       "    </tr>\n",
       "    <tr>\n",
       "      <th>三民</th>\n",
       "      <td>12535</td>\n",
       "      <td>7.364865</td>\n",
       "      <td>52</td>\n",
       "      <td>0</td>\n",
       "      <td>18652</td>\n",
       "      <td>10.958872</td>\n",
       "      <td>57</td>\n",
       "      <td>0</td>\n",
       "    </tr>\n",
       "    <tr>\n",
       "      <th>...</th>\n",
       "      <td>...</td>\n",
       "      <td>...</td>\n",
       "      <td>...</td>\n",
       "      <td>...</td>\n",
       "      <td>...</td>\n",
       "      <td>...</td>\n",
       "      <td>...</td>\n",
       "      <td>...</td>\n",
       "    </tr>\n",
       "    <tr>\n",
       "      <th>鼓山</th>\n",
       "      <td>469414</td>\n",
       "      <td>273.870478</td>\n",
       "      <td>2352</td>\n",
       "      <td>9</td>\n",
       "      <td>476151</td>\n",
       "      <td>277.801050</td>\n",
       "      <td>1055</td>\n",
       "      <td>16</td>\n",
       "    </tr>\n",
       "    <tr>\n",
       "      <th>龍井</th>\n",
       "      <td>596686</td>\n",
       "      <td>348.328079</td>\n",
       "      <td>2131</td>\n",
       "      <td>36</td>\n",
       "      <td>589722</td>\n",
       "      <td>344.262697</td>\n",
       "      <td>5506</td>\n",
       "      <td>35</td>\n",
       "    </tr>\n",
       "    <tr>\n",
       "      <th>龍泉</th>\n",
       "      <td>24965</td>\n",
       "      <td>14.582360</td>\n",
       "      <td>103</td>\n",
       "      <td>0</td>\n",
       "      <td>30795</td>\n",
       "      <td>17.987734</td>\n",
       "      <td>390</td>\n",
       "      <td>1</td>\n",
       "    </tr>\n",
       "    <tr>\n",
       "      <th>龍港</th>\n",
       "      <td>30146</td>\n",
       "      <td>17.598365</td>\n",
       "      <td>106</td>\n",
       "      <td>2</td>\n",
       "      <td>38335</td>\n",
       "      <td>22.378867</td>\n",
       "      <td>130</td>\n",
       "      <td>2</td>\n",
       "    </tr>\n",
       "    <tr>\n",
       "      <th>龜山</th>\n",
       "      <td>141198</td>\n",
       "      <td>82.379230</td>\n",
       "      <td>389</td>\n",
       "      <td>3</td>\n",
       "      <td>134504</td>\n",
       "      <td>78.473746</td>\n",
       "      <td>287</td>\n",
       "      <td>0</td>\n",
       "    </tr>\n",
       "  </tbody>\n",
       "</table>\n",
       "<p>240 rows × 8 columns</p>\n",
       "</div>"
      ],
      "text/plain": [
       "          進站                               出站                        \n",
       "          總數         平均人數    最多   最少       總數         平均人數    最多   最少\n",
       "站名                                                                   \n",
       "七堵   9044563  5276.874562  7704  141  9115329  5318.161610  8288  210\n",
       "三坑   2080517  1213.837223  1715   34  2140894  1249.063011  1835   31\n",
       "三塊厝   786111   458.641190   933   16   824381   480.969078  1013   15\n",
       "三姓橋  1760760  1027.281214  2125    3  1594509   930.285298  1603   16\n",
       "三民     12535     7.364865    52    0    18652    10.958872    57    0\n",
       "..       ...          ...   ...  ...      ...          ...   ...  ...\n",
       "鼓山    469414   273.870478  2352    9   476151   277.801050  1055   16\n",
       "龍井    596686   348.328079  2131   36   589722   344.262697  5506   35\n",
       "龍泉     24965    14.582360   103    0    30795    17.987734   390    1\n",
       "龍港     30146    17.598365   106    2    38335    22.378867   130    2\n",
       "龜山    141198    82.379230   389    3   134504    78.473746   287    0\n",
       "\n",
       "[240 rows x 8 columns]"
      ]
     },
     "execution_count": 22,
     "metadata": {},
     "output_type": "execute_result"
    }
   ],
   "source": [
    "df1.groupby('站名')[['進站','出站']].agg([('總數','sum'),('平均人數','mean'),('最多','max'),('最少','min')])"
   ]
  },
  {
   "cell_type": "code",
   "execution_count": 23,
   "metadata": {
    "metadata": {}
   },
   "outputs": [
    {
     "data": {
      "text/html": [
       "<div>\n",
       "<style scoped>\n",
       "    .dataframe tbody tr th:only-of-type {\n",
       "        vertical-align: middle;\n",
       "    }\n",
       "\n",
       "    .dataframe tbody tr th {\n",
       "        vertical-align: top;\n",
       "    }\n",
       "\n",
       "    .dataframe thead th {\n",
       "        text-align: right;\n",
       "    }\n",
       "</style>\n",
       "<table border=\"1\" class=\"dataframe\">\n",
       "  <thead>\n",
       "    <tr style=\"text-align: right;\">\n",
       "      <th></th>\n",
       "      <th></th>\n",
       "      <th>進站</th>\n",
       "      <th>出站</th>\n",
       "    </tr>\n",
       "    <tr>\n",
       "      <th>日期</th>\n",
       "      <th>站名</th>\n",
       "      <th></th>\n",
       "      <th></th>\n",
       "    </tr>\n",
       "  </thead>\n",
       "  <tbody>\n",
       "    <tr>\n",
       "      <th rowspan=\"5\" valign=\"top\">2019-04-23</th>\n",
       "      <th>七堵</th>\n",
       "      <td>6113</td>\n",
       "      <td>6335</td>\n",
       "    </tr>\n",
       "    <tr>\n",
       "      <th>三坑</th>\n",
       "      <td>1394</td>\n",
       "      <td>1348</td>\n",
       "    </tr>\n",
       "    <tr>\n",
       "      <th>三塊厝</th>\n",
       "      <td>394</td>\n",
       "      <td>396</td>\n",
       "    </tr>\n",
       "    <tr>\n",
       "      <th>三姓橋</th>\n",
       "      <td>1150</td>\n",
       "      <td>1041</td>\n",
       "    </tr>\n",
       "    <tr>\n",
       "      <th>三民</th>\n",
       "      <td>9</td>\n",
       "      <td>7</td>\n",
       "    </tr>\n",
       "    <tr>\n",
       "      <th>...</th>\n",
       "      <th>...</th>\n",
       "      <td>...</td>\n",
       "      <td>...</td>\n",
       "    </tr>\n",
       "    <tr>\n",
       "      <th rowspan=\"5\" valign=\"top\">2023-12-31</th>\n",
       "      <th>鼓山</th>\n",
       "      <td>744</td>\n",
       "      <td>752</td>\n",
       "    </tr>\n",
       "    <tr>\n",
       "      <th>龍井</th>\n",
       "      <td>684</td>\n",
       "      <td>588</td>\n",
       "    </tr>\n",
       "    <tr>\n",
       "      <th>龍泉</th>\n",
       "      <td>41</td>\n",
       "      <td>271</td>\n",
       "    </tr>\n",
       "    <tr>\n",
       "      <th>龍港</th>\n",
       "      <td>29</td>\n",
       "      <td>61</td>\n",
       "    </tr>\n",
       "    <tr>\n",
       "      <th>龜山</th>\n",
       "      <td>214</td>\n",
       "      <td>159</td>\n",
       "    </tr>\n",
       "  </tbody>\n",
       "</table>\n",
       "<p>405059 rows × 2 columns</p>\n",
       "</div>"
      ],
      "text/plain": [
       "                  進站    出站\n",
       "日期         站名             \n",
       "2019-04-23 七堵   6113  6335\n",
       "           三坑   1394  1348\n",
       "           三塊厝   394   396\n",
       "           三姓橋  1150  1041\n",
       "           三民      9     7\n",
       "...              ...   ...\n",
       "2023-12-31 鼓山    744   752\n",
       "           龍井    684   588\n",
       "           龍泉     41   271\n",
       "           龍港     29    61\n",
       "           龜山    214   159\n",
       "\n",
       "[405059 rows x 2 columns]"
      ]
     },
     "execution_count": 23,
     "metadata": {},
     "output_type": "execute_result"
    }
   ],
   "source": [
    "df1.groupby(['日期','站名'])[['進站','出站']].sum()\n"
   ]
  },
  {
   "cell_type": "code",
   "execution_count": 28,
   "metadata": {
    "metadata": {}
   },
   "outputs": [
    {
     "data": {
      "text/html": [
       "<div>\n",
       "<style scoped>\n",
       "    .dataframe tbody tr th:only-of-type {\n",
       "        vertical-align: middle;\n",
       "    }\n",
       "\n",
       "    .dataframe tbody tr th {\n",
       "        vertical-align: top;\n",
       "    }\n",
       "\n",
       "    .dataframe thead th {\n",
       "        text-align: right;\n",
       "    }\n",
       "</style>\n",
       "<table border=\"1\" class=\"dataframe\">\n",
       "  <thead>\n",
       "    <tr style=\"text-align: right;\">\n",
       "      <th></th>\n",
       "      <th></th>\n",
       "      <th>進站</th>\n",
       "      <th>出站</th>\n",
       "    </tr>\n",
       "    <tr>\n",
       "      <th>日期</th>\n",
       "      <th>站名</th>\n",
       "      <th></th>\n",
       "      <th></th>\n",
       "    </tr>\n",
       "  </thead>\n",
       "  <tbody>\n",
       "    <tr>\n",
       "      <th rowspan=\"5\" valign=\"top\">2019</th>\n",
       "      <th>七堵</th>\n",
       "      <td>1512951</td>\n",
       "      <td>1560506</td>\n",
       "    </tr>\n",
       "    <tr>\n",
       "      <th>三坑</th>\n",
       "      <td>342775</td>\n",
       "      <td>347841</td>\n",
       "    </tr>\n",
       "    <tr>\n",
       "      <th>三塊厝</th>\n",
       "      <td>105842</td>\n",
       "      <td>111863</td>\n",
       "    </tr>\n",
       "    <tr>\n",
       "      <th>三姓橋</th>\n",
       "      <td>288098</td>\n",
       "      <td>260777</td>\n",
       "    </tr>\n",
       "    <tr>\n",
       "      <th>三民</th>\n",
       "      <td>2435</td>\n",
       "      <td>2994</td>\n",
       "    </tr>\n",
       "    <tr>\n",
       "      <th>...</th>\n",
       "      <th>...</th>\n",
       "      <td>...</td>\n",
       "      <td>...</td>\n",
       "    </tr>\n",
       "    <tr>\n",
       "      <th rowspan=\"5\" valign=\"top\">2023</th>\n",
       "      <th>鼓山</th>\n",
       "      <td>165055</td>\n",
       "      <td>168011</td>\n",
       "    </tr>\n",
       "    <tr>\n",
       "      <th>龍井</th>\n",
       "      <td>155439</td>\n",
       "      <td>157385</td>\n",
       "    </tr>\n",
       "    <tr>\n",
       "      <th>龍泉</th>\n",
       "      <td>6263</td>\n",
       "      <td>8246</td>\n",
       "    </tr>\n",
       "    <tr>\n",
       "      <th>龍港</th>\n",
       "      <td>8662</td>\n",
       "      <td>9633</td>\n",
       "    </tr>\n",
       "    <tr>\n",
       "      <th>龜山</th>\n",
       "      <td>29966</td>\n",
       "      <td>29613</td>\n",
       "    </tr>\n",
       "  </tbody>\n",
       "</table>\n",
       "<p>1193 rows × 2 columns</p>\n",
       "</div>"
      ],
      "text/plain": [
       "               進站       出站\n",
       "日期   站名                   \n",
       "2019 七堵   1512951  1560506\n",
       "     三坑    342775   347841\n",
       "     三塊厝   105842   111863\n",
       "     三姓橋   288098   260777\n",
       "     三民      2435     2994\n",
       "...           ...      ...\n",
       "2023 鼓山    165055   168011\n",
       "     龍井    155439   157385\n",
       "     龍泉      6263     8246\n",
       "     龍港      8662     9633\n",
       "     龜山     29966    29613\n",
       "\n",
       "[1193 rows x 2 columns]"
      ]
     },
     "execution_count": 28,
     "metadata": {},
     "output_type": "execute_result"
    }
   ],
   "source": [
    "df1.groupby([df1['日期'].dt.year,'站名'])[['進站','出站']].sum()\n"
   ]
  },
  {
   "cell_type": "code",
   "execution_count": 34,
   "metadata": {
    "metadata": {}
   },
   "outputs": [],
   "source": [
    "df2=df1.groupby([df1['日期'].dt.year,'站名'])[['進站','出站']].agg([('總數','sum'),('平均人數','mean'),('最多','max'),('最少','min')])\n"
   ]
  },
  {
   "cell_type": "code",
   "execution_count": 35,
   "metadata": {
    "metadata": {}
   },
   "outputs": [
    {
     "name": "stderr",
     "output_type": "stream",
     "text": [
      "/tmp/ipykernel_490/406340214.py:1: FutureWarning: The previous implementation of stack is deprecated and will be removed in a future version of pandas. See the What's New notes for pandas 2.1.0 for details. Specify future_stack=True to adopt the new implementation and silence this warning.\n",
      "  df2.stack()\n"
     ]
    },
    {
     "data": {
      "text/html": [
       "<div>\n",
       "<style scoped>\n",
       "    .dataframe tbody tr th:only-of-type {\n",
       "        vertical-align: middle;\n",
       "    }\n",
       "\n",
       "    .dataframe tbody tr th {\n",
       "        vertical-align: top;\n",
       "    }\n",
       "\n",
       "    .dataframe thead th {\n",
       "        text-align: right;\n",
       "    }\n",
       "</style>\n",
       "<table border=\"1\" class=\"dataframe\">\n",
       "  <thead>\n",
       "    <tr style=\"text-align: right;\">\n",
       "      <th></th>\n",
       "      <th></th>\n",
       "      <th></th>\n",
       "      <th>進站</th>\n",
       "      <th>出站</th>\n",
       "    </tr>\n",
       "    <tr>\n",
       "      <th>日期</th>\n",
       "      <th>站名</th>\n",
       "      <th></th>\n",
       "      <th></th>\n",
       "      <th></th>\n",
       "    </tr>\n",
       "  </thead>\n",
       "  <tbody>\n",
       "    <tr>\n",
       "      <th rowspan=\"5\" valign=\"top\">2019</th>\n",
       "      <th rowspan=\"4\" valign=\"top\">七堵</th>\n",
       "      <th>總數</th>\n",
       "      <td>1.512951e+06</td>\n",
       "      <td>1.560506e+06</td>\n",
       "    </tr>\n",
       "    <tr>\n",
       "      <th>平均人數</th>\n",
       "      <td>5.980043e+03</td>\n",
       "      <td>6.168008e+03</td>\n",
       "    </tr>\n",
       "    <tr>\n",
       "      <th>最多</th>\n",
       "      <td>7.417000e+03</td>\n",
       "      <td>8.078000e+03</td>\n",
       "    </tr>\n",
       "    <tr>\n",
       "      <th>最少</th>\n",
       "      <td>2.103000e+03</td>\n",
       "      <td>2.438000e+03</td>\n",
       "    </tr>\n",
       "    <tr>\n",
       "      <th>三坑</th>\n",
       "      <th>總數</th>\n",
       "      <td>3.427750e+05</td>\n",
       "      <td>3.478410e+05</td>\n",
       "    </tr>\n",
       "    <tr>\n",
       "      <th>...</th>\n",
       "      <th>...</th>\n",
       "      <th>...</th>\n",
       "      <td>...</td>\n",
       "      <td>...</td>\n",
       "    </tr>\n",
       "    <tr>\n",
       "      <th rowspan=\"5\" valign=\"top\">2023</th>\n",
       "      <th>龍港</th>\n",
       "      <th>最少</th>\n",
       "      <td>8.000000e+00</td>\n",
       "      <td>7.000000e+00</td>\n",
       "    </tr>\n",
       "    <tr>\n",
       "      <th rowspan=\"4\" valign=\"top\">龜山</th>\n",
       "      <th>總數</th>\n",
       "      <td>2.996600e+04</td>\n",
       "      <td>2.961300e+04</td>\n",
       "    </tr>\n",
       "    <tr>\n",
       "      <th>平均人數</th>\n",
       "      <td>8.209863e+01</td>\n",
       "      <td>8.113151e+01</td>\n",
       "    </tr>\n",
       "    <tr>\n",
       "      <th>最多</th>\n",
       "      <td>2.550000e+02</td>\n",
       "      <td>2.870000e+02</td>\n",
       "    </tr>\n",
       "    <tr>\n",
       "      <th>最少</th>\n",
       "      <td>3.100000e+01</td>\n",
       "      <td>3.300000e+01</td>\n",
       "    </tr>\n",
       "  </tbody>\n",
       "</table>\n",
       "<p>4772 rows × 2 columns</p>\n",
       "</div>"
      ],
      "text/plain": [
       "                        進站            出站\n",
       "日期   站名                                 \n",
       "2019 七堵 總數    1.512951e+06  1.560506e+06\n",
       "        平均人數  5.980043e+03  6.168008e+03\n",
       "        最多    7.417000e+03  8.078000e+03\n",
       "        最少    2.103000e+03  2.438000e+03\n",
       "     三坑 總數    3.427750e+05  3.478410e+05\n",
       "...                    ...           ...\n",
       "2023 龍港 最少    8.000000e+00  7.000000e+00\n",
       "     龜山 總數    2.996600e+04  2.961300e+04\n",
       "        平均人數  8.209863e+01  8.113151e+01\n",
       "        最多    2.550000e+02  2.870000e+02\n",
       "        最少    3.100000e+01  3.300000e+01\n",
       "\n",
       "[4772 rows x 2 columns]"
      ]
     },
     "execution_count": 35,
     "metadata": {},
     "output_type": "execute_result"
    }
   ],
   "source": [
    "df2.stack()"
   ]
  }
 ],
 "metadata": {
  "kernelspec": {
   "display_name": "Python 3",
   "language": "python",
   "name": "python3"
  },
  "language_info": {
   "codemirror_mode": {
    "name": "ipython",
    "version": 3
   },
   "file_extension": ".py",
   "mimetype": "text/x-python",
   "name": "python",
   "nbconvert_exporter": "python",
   "pygments_lexer": "ipython3",
   "version": "3.10.13"
  }
 },
 "nbformat": 4,
 "nbformat_minor": 2
}
