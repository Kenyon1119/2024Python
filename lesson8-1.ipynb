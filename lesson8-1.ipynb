{
 "cells": [
  {
   "cell_type": "code",
   "execution_count": 17,
   "metadata": {},
   "outputs": [
    {
     "name": "stdout",
     "output_type": "stream",
     "text": [
      "猜數字遊戲開始拉！猜數字範圍1~100\n",
      "\n",
      "猜第1次\n",
      "1~50，小一點\n",
      "猜第2次\n",
      "1~25，小一點\n",
      "猜第3次\n",
      "1~15，小一點\n",
      "猜第4次\n",
      "1~10，小一點\n",
      "猜第5次\n",
      "5~10，大一點\n",
      "賓果！第6次猜數字8 猜中了\n",
      "結束遊戲，END\n"
     ]
    }
   ],
   "source": [
    "##猜數字遊戲\n",
    "import random\n",
    "min=1\n",
    "max=100\n",
    "count=0\n",
    "print(f'猜數字遊戲開始拉！猜數字範圍{min}~{max}\\n')\n",
    "guess=random.randint(min,max)\n",
    "#print(f'要猜的數字是{guess}')\n",
    "while(True):\n",
    "    try:\n",
    "        keyin=int(input(f'{min}~{max}'))\n",
    "        if (keyin<=max and keyin>guess):\n",
    "            max=keyin\n",
    "            count +=1\n",
    "            print(f'猜第{count}次')\n",
    "            print(f'{min}~{max}，小一點')\n",
    "            continue\n",
    "        elif (keyin>=min and keyin<guess):\n",
    "            min=keyin\n",
    "            count +=1\n",
    "            print(f'猜第{count}次')\n",
    "            print(f'{min}~{max}，大一點')\n",
    "            continue        \n",
    "    except:\n",
    "        count +=1\n",
    "        print(f'猜第{count}次')\n",
    "        print('輸入格式錯誤！')\n",
    "    if (keyin==guess):\n",
    "        count +=1\n",
    "        print(f'賓果！第{count}次猜數字{guess} 猜中了')\n",
    "        print('結束遊戲，END')\n",
    "        break"
   ]
  }
 ],
 "metadata": {
  "kernelspec": {
   "display_name": "Python 3",
   "language": "python",
   "name": "python3"
  },
  "language_info": {
   "codemirror_mode": {
    "name": "ipython",
    "version": 3
   },
   "file_extension": ".py",
   "mimetype": "text/x-python",
   "name": "python",
   "nbconvert_exporter": "python",
   "pygments_lexer": "ipython3",
   "version": "3.10.13"
  }
 },
 "nbformat": 4,
 "nbformat_minor": 2
}
