{
 "cells": [
  {
   "cell_type": "code",
   "execution_count": 1,
   "metadata": {},
   "outputs": [],
   "source": [
    "# for in迴圈\n",
    "#明確知道迴圈次數\n",
    "#去操場跑10圈\n",
    "\n",
    "#while迴圈\n",
    "#不明確知道迴圈次數\n",
    "#EX:去操場跑步，跑到下雨為止\n",
    "\n",
    "#建立變數\n",
    "#total從一加到五\n",
    "total = 0\n",
    "total = total+1\n",
    "total = total+2\n",
    "total = total+3\n",
    "total = total+4\n",
    "total = total+5\n",
    "total = 0\n",
    "#total從一加到五，簡潔版\n",
    "total +=1\n",
    "total +=2\n",
    "total +=3\n",
    "total +=4\n",
    "total +=5\n",
    "total = 0\n"
   ]
  },
  {
   "cell_type": "code",
   "execution_count": 2,
   "metadata": {},
   "outputs": [
    {
     "data": {
      "text/plain": [
       "5050"
      ]
     },
     "execution_count": 2,
     "metadata": {},
     "output_type": "execute_result"
    }
   ],
   "source": [
    "#\n",
    "total=0\n",
    "for i in range(1,101):\n",
    "    total+=i\n",
    "total"
   ]
  },
  {
   "cell_type": "code",
   "execution_count": 7,
   "metadata": {},
   "outputs": [
    {
     "name": "stdout",
     "output_type": "stream",
     "text": [
      "i=1\n",
      "j=1 j=2 j=3 j=4 j=5 j=6 j=7 j=8 j=9 \n",
      "i=2\n",
      "j=1 j=2 j=3 j=4 j=5 j=6 j=7 j=8 j=9 \n",
      "i=3\n",
      "j=1 j=2 j=3 j=4 j=5 j=6 j=7 j=8 j=9 \n",
      "i=4\n",
      "j=1 j=2 j=3 j=4 j=5 j=6 j=7 j=8 j=9 \n",
      "i=5\n",
      "j=1 j=2 j=3 j=4 j=5 j=6 j=7 j=8 j=9 \n",
      "i=6\n",
      "j=1 j=2 j=3 j=4 j=5 j=6 j=7 j=8 j=9 \n",
      "i=7\n",
      "j=1 j=2 j=3 j=4 j=5 j=6 j=7 j=8 j=9 \n",
      "i=8\n",
      "j=1 j=2 j=3 j=4 j=5 j=6 j=7 j=8 j=9 \n",
      "i=9\n",
      "j=1 j=2 j=3 j=4 j=5 j=6 j=7 j=8 j=9 \n"
     ]
    }
   ],
   "source": [
    "for i in range(1,10):\n",
    "    print(f'i={i}')\n",
    "    for j in range(1,10):\n",
    "        print(f'j={j}',end=' ')\n",
    "    print()\n"
   ]
  },
  {
   "cell_type": "code",
   "execution_count": null,
   "metadata": {},
   "outputs": [],
   "source": [
    "for i in range(1,10):\n",
    "    #print(f'i={i}')\n",
    "    for j in range(1,10):\n",
    "        print(f'{i}*{j}={i*j}',end=' ')\n",
    "    print()"
   ]
  },
  {
   "cell_type": "code",
   "execution_count": null,
   "metadata": {},
   "outputs": [],
   "source": [
    "#對齊\n",
    "for i in range(1,10):\n",
    "    #print(f'i={i}')\n",
    "    for j in range(1,10):\n",
    "        print(f'{i:<2d}*{j:2d} ={i*j:2d}',end='   ')\n",
    "    print()"
   ]
  },
  {
   "cell_type": "code",
   "execution_count": null,
   "metadata": {},
   "outputs": [],
   "source": [
    "\n",
    "    "
   ]
  },
  {
   "cell_type": "code",
   "execution_count": null,
   "metadata": {},
   "outputs": [],
   "source": [
    "total=0\n",
    "i=0\n",
    "while(i<10):\n",
    "    i+=1\n",
    "    total+=i\n",
    "    print(total)\n",
    "    "
   ]
  },
  {
   "cell_type": "code",
   "execution_count": null,
   "metadata": {},
   "outputs": [],
   "source": [
    "##while作不知道幾次的迴圈\n",
    "##範例：小明每次存錢不知道存多少錢，直到三萬為止\n",
    "import pyinputplus as pyip\n",
    "deposit:int=0\n",
    "count:int=0\n",
    "while(True):\n",
    "    count+=1\n",
    "    value:int=pyip.inputInt(f'請輸入第{count}筆的存入金額')\n",
    "    print(value)\n",
    "    deposit+=value\n",
    "    if deposit>=30000:\n",
    "        break\n",
    "print(f\"恭喜存滿了，存了{count}次，已經存了{deposit}元\")"
   ]
  },
  {
   "cell_type": "code",
   "execution_count": 3,
   "metadata": {},
   "outputs": [
    {
     "name": "stdout",
     "output_type": "stream",
     "text": [
      "請輸入整數\n",
      "Blank values are not allowed.\n",
      "請輸入整數\n",
      "Blank values are not allowed.\n",
      "請輸入整數\n",
      "Blank values are not allowed.\n",
      "請輸入整數\n",
      "2313正確，是整數，求所有因數\n",
      "2313的因數有1\n",
      "2313的因數有3\n",
      "2313的因數有9\n",
      "2313的因數有257\n",
      "2313的因數有771\n",
      "2313的因數有2313\n"
     ]
    }
   ],
   "source": [
    "##homework\n",
    "##輸入整數，求所有因數\n",
    "##輸出其因數\n",
    "import pyinputplus as pyip\n",
    "number:int=pyip.inputInt('請輸入整數\\n')\n",
    "#確認是否為數值\n",
    "#確認是否為整數   \n",
    "print(f'{number}正確，是整數，求所有因數')\n",
    "divisor:int=0\n",
    "while divisor <= number:\n",
    "    divisor+=1\n",
    "    if (number%divisor==0):\n",
    "        print(f'{number}的因數有{divisor}')\n",
    "    if (number==divisor):.\n",
    "        break\n",
    "        "
   ]
  },
  {
   "cell_type": "code",
   "execution_count": 18,
   "metadata": {},
   "outputs": [
    {
     "name": "stdout",
     "output_type": "stream",
     "text": [
      "數字30的因數有1\n",
      "\n",
      "數字30的因數有2\n",
      "\n",
      "數字30的因數有3\n",
      "\n",
      "數字30的因數有5\n",
      "\n",
      "數字30的因數有6\n",
      "\n",
      "數字30的因數有10\n",
      "\n",
      "數字30的因數有15\n",
      "\n",
      "數字30的因數有30\n",
      "\n"
     ]
    }
   ],
   "source": [
    "divisor:int=0\n",
    "number:int=30\n",
    "while divisor <= number:\n",
    "    divisor+=1\n",
    "    if (number%divisor==0):\n",
    "        print(f'數字{number}的因數有{divisor}\\n')\n",
    "    if (number==divisor):\n",
    "        break\n",
    "        \n",
    "    \n",
    "        \n",
    "        "
   ]
  },
  {
   "cell_type": "code",
   "execution_count": null,
   "metadata": {},
   "outputs": [],
   "source": []
  }
 ],
 "metadata": {
  "kernelspec": {
   "display_name": "Python 3",
   "language": "python",
   "name": "python3"
  },
  "language_info": {
   "codemirror_mode": {
    "name": "ipython",
    "version": 3
   },
   "file_extension": ".py",
   "mimetype": "text/x-python",
   "name": "python",
   "nbconvert_exporter": "python",
   "pygments_lexer": "ipython3",
   "version": "3.10.13"
  }
 },
 "nbformat": 4,
 "nbformat_minor": 2
}
