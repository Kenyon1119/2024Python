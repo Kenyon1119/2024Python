{
 "cells": [
  {
   "cell_type": "code",
   "execution_count": 22,
   "metadata": {},
   "outputs": [
    {
     "name": "stdout",
     "output_type": "stream",
     "text": [
      "體重超過250kg，超出輸入範圍，請重新輸入\n"
     ]
    }
   ],
   "source": [
    "#作業\n",
    "#檢查輸入的範圍\n",
    "#try...except...\n",
    "#輸出錯誤訊息\n",
    "#BMI計算公式： BMI=體重(公斤)/身高平方(平方公尺)\n",
    "try:\n",
    "    height:float=eval(input(\"請輸入您的身高 ( 120~250 cm)\"))\n",
    "    weight:float=eval(input(\"請輸入您的體重 (  30~250 kg)\"))\n",
    "except:\n",
    "    print('錯誤訊息！請輸入數字')\n",
    "else:\n",
    "    if height<120:\n",
    "        print('身高低過120cm，超出輸入範圍，請重新輸入')\n",
    "    else:\n",
    "        if height>250:\n",
    "            print('身高高過250cm，超出輸入範圍，請重新輸入')\n",
    "        else:\n",
    "            if weight<30:\n",
    "                print('體重低過30kg，超出輸入範圍，請重新輸入')\n",
    "            else:\n",
    "                if weight>250:\n",
    "                    print('體重超過250kg，超出輸入範圍，請重新輸入')\n",
    "                else:\n",
    "                    bmi=weight/((height/100)**2)\n",
    "                    print(f'您的身高為:{height:.2f}公分，體重是:{weight:.2f}公斤')\n",
    "                    print(f'您的BMI值為:{bmi:.2f}')\n",
    "                    if bmi<18.5:\n",
    "                        print(f'範圍區間屬於過輕，多吃一點補充營養')\n",
    "                    elif bmi<24:\n",
    "                        print(f'範圍區間屬於正常')\n",
    "                    elif bmi<27:\n",
    "                        print(f'範圍區間屬於過重，注意飲食')\n",
    "                    elif bmi<30:\n",
    "                        print(f'範圍區間屬於輕度肥胖，要多運動')\n",
    "                    elif bmi<35:\n",
    "                        print(f'範圍區間屬於中度肥胖，該注意飲食外要多加運動')\n",
    "                    else:  \n",
    "                        print(f'範圍區間屬於重度肥胖，請與醫師與健身教練聯絡諮詢') "
   ]
  }
 ],
 "metadata": {
  "kernelspec": {
   "display_name": "Python 3",
   "language": "python",
   "name": "python3"
  },
  "language_info": {
   "codemirror_mode": {
    "name": "ipython",
    "version": 3
   },
   "file_extension": ".py",
   "mimetype": "text/x-python",
   "name": "python",
   "nbconvert_exporter": "python",
   "pygments_lexer": "ipython3",
   "version": "3.10.13"
  }
 },
 "nbformat": 4,
 "nbformat_minor": 2
}
