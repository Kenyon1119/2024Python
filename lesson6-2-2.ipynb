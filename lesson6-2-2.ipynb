{
 "cells": [
  {
   "cell_type": "code",
   "execution_count": 20,
   "metadata": {},
   "outputs": [
    {
     "name": "stdout",
     "output_type": "stream",
     "text": [
      "請輸入您的身高 ( 120~250 公分)\n",
      "Number must be at minimum 120.\n",
      "請輸入您的身高 ( 120~250 公分)\n",
      "Number must be at minimum 120.\n",
      "請輸入您的身高 ( 120~250 公分)\n",
      "您的身高是:150.00公分\n",
      "請輸入您的體重 (  30~250 公斤)\n",
      "Number must be at minimum 30.\n",
      "請輸入您的體重 (  30~250 公斤)\n",
      "您的體重是：30.00公斤\n",
      "您的BMI值為:13.33\n",
      "範圍區間屬於過輕，多吃一點補充營養\n"
     ]
    }
   ],
   "source": [
    "import pyinputplus as pyip\n",
    "\n",
    "height = pyip.inputNum('請輸入您的身高 ( 120~250 公分)\\n',min=120,max=250)\n",
    "print(f'您的身高是:{height:.2f}公分')\n",
    "weight = pyip.inputNum('請輸入您的體重 (  30~250 公斤)\\n',min=30,max=250)\n",
    "print(f'您的體重是：{weight:.2f}公斤')\n",
    "bmi=weight/((height/100)**2)\n",
    "print(f'您的BMI值為:{bmi:.2f}')\n",
    "if bmi<18.5:\n",
    "    print(f'範圍區間屬於過輕，多吃一點補充營養')\n",
    "elif bmi<24:\n",
    "    print(f'範圍區間屬於正常')\n",
    "elif bmi<27:\n",
    "    print(f'範圍區間屬於過重，注意飲食')\n",
    "elif bmi<30:\n",
    "    print(f'範圍區間屬於輕度肥胖，要多運動')\n",
    "elif bmi<35:\n",
    "    print(f'範圍區間屬於中度肥胖，該注意飲食外要多加運動')\n",
    "else:  \n",
    "    print(f'範圍區間屬於重度肥胖，請與醫師與健身教練聯絡諮詢') "
   ]
  }
 ],
 "metadata": {
  "kernelspec": {
   "display_name": "Python 3",
   "language": "python",
   "name": "python3"
  },
  "language_info": {
   "codemirror_mode": {
    "name": "ipython",
    "version": 3
   },
   "file_extension": ".py",
   "mimetype": "text/x-python",
   "name": "python",
   "nbconvert_exporter": "python",
   "pygments_lexer": "ipython3",
   "version": "3.10.13"
  }
 },
 "nbformat": 4,
 "nbformat_minor": 2
}
