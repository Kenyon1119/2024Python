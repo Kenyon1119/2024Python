{
 "cells": [
  {
   "cell_type": "code",
   "execution_count": null,
   "metadata": {},
   "outputs": [],
   "source": [
    "file=open('names.txt')\n",
    "##處理file實體\n",
    "file.close()\n",
    "if file.closed:\n",
    "    print('檔案關閉')\n",
    "else:\n",
    "    print('檔案沒有關閉')"
   ]
  },
  {
   "cell_type": "code",
   "execution_count": null,
   "metadata": {},
   "outputs": [],
   "source": [
    "with open('names.txt',encoding='utf-8') as file:\n",
    "    display(file.read())\n",
    "#跳出程式區塊會自動close()   \n",
    "if file.closed:\n",
    "    print('file物件被關閉')\n",
    "else:\n",
    "    print('file物件沒有關閉')"
   ]
  },
  {
   "cell_type": "code",
   "execution_count": null,
   "metadata": {},
   "outputs": [],
   "source": [
    "with open('names.txt',encoding='utf-8') as file:\n",
    "    display(file.readline())\n",
    "    display(file.readline())\n",
    "    display(file.readline())\n",
    "    display(file.readline())\n",
    "#跳出程式區塊會自動close()   \n",
    "if file.closed:\n",
    "    print('file物件被關閉')\n",
    "else:\n",
    "    print('file物件沒有關閉')"
   ]
  },
  {
   "cell_type": "code",
   "execution_count": null,
   "metadata": {},
   "outputs": [],
   "source": [
    "with open('names.txt',encoding='utf-8') as file:\n",
    "    for i in file:\n",
    "        display(i)\n",
    "#跳出程式區塊會自動close()   \n",
    "if file.closed:\n",
    "    print('file物件被關閉')\n",
    "else:\n",
    "    print('file物件沒有關閉')"
   ]
  },
  {
   "cell_type": "code",
   "execution_count": 16,
   "metadata": {},
   "outputs": [
    {
     "data": {
      "text/plain": [
       "'陳怡伶\\n馮芳如\\n蒙淑惠\\n張軒宸\\n陳向愛\\n賴心怡\\n王怡珊\\n林詠斌\\n陳淑娟\\n崔孝憲\\n林希啟\\n楊韋廷\\n陳文賢\\n王士銘\\n賴昌韻\\n黃名明\\n吳麗卿\\n游治旺\\n蔡嘉音\\n黃靜怡\\n黃淑芬\\n龔姵君\\n景歡燦\\n李政成\\n楊綺芬\\n昌嘉洋\\n李慈啟\\n游倫城\\n林淑安\\n蔡士賢\\n林世城\\n林佳蓉\\n柯宜臻\\n傅佳琳\\n林瑞喬\\n林佳慧\\n鍾俞禎\\n劉慧君\\n劉林中\\n林怡偉\\n余丞苓\\n黃佩玲\\n林建宏\\n方雅慧\\n林柏洋\\n郭舜昇\\n艾巧夫\\n童建霖\\n蔡至剛\\n黃心航\\n張凡成\\n郭淑枝\\n黃必琪\\n楊健麟\\n林建勳\\n鄭琇亞\\n王雅琴\\n李美洋\\n楊少亮\\n王泓泰\\n黃江旭\\n王梅劭\\n林佳光\\n盧必妍\\n林思賢\\n鄧哲榮\\n陳家年\\n張俊傑\\n洪阿惠\\n陳彥治\\n盧冠發\\n程玫靖\\n潘俊賢\\n呂傑宣\\n鄭孟芳\\n彭茹靖\\n王孝純\\n吳昕婷\\n朱惠儀\\n盧文啟\\n謝佳穎\\n鄭憲定\\n馮淑芬\\n聶心怡\\n黃志福\\n馬彥文\\n郭淑真\\n吳欣書\\n鄭佳玲\\n黃健發\\n胡姿婷\\n林義皓\\n胡芳瑜\\n楊易政\\n王德城\\n劉依婷\\n吳俐芷\\n黃詩妃\\n柯韋成\\n鄧亭聿\\n王雅慧\\n陳凱翔\\n藍哲嘉\\n趙偉銘\\n張韋成\\n林向鈺\\n周琬婷\\n尚偉倫\\n賴佳雯\\n陳姵彬\\n林群清\\n趙家豪\\n李政白\\n林俊翔\\n李進慧\\n楊韻如\\n藍姿婷\\n劉嘉泰\\n王柏聖\\n孫宜珊\\n戴萱能\\n高士凱\\n楊又源\\n劉昀天\\n王怡君\\n余月修\\n劉萬季\\n陳信宏\\n陳孝邦\\n朱彥志\\n陳奇瑄\\n鄧淑娟\\n陳逸凡\\n張牧聿\\n唐雪豪\\n林康亮\\n黃旻林\\n蕭淑華\\n劉雯芬\\n陳美惠\\n孫火清\\n溫法堯\\n錢欣潔\\n陳倩潔\\n李雅怡\\n白美珍\\n葉志峰\\n黃佩芬\\n黃麗美\\n黃奎紹\\n邱亭君\\n詹忠光\\n戚亨\\n賴又琦\\n林佳人\\n黃善迪\\n賴苑禾\\n溫重意\\n周怡啟\\n王明昇\\n羅佩樺\\n陳家維\\n張莉雯\\n高俊男\\n林冠蕙\\n王品星\\n吳孟穎\\n黃雅慧\\n馮耀中\\n元延辛\\n王坤安\\n陳慧君\\n張伊映\\n林士凱\\n蘇婷婷\\n陳淑萍\\n林玉佩\\n謝貞妃\\n杜儀鳳\\n陳倩妮\\n胡淑貞\\n楊偉翔\\n姜琬婷\\n張雅芬\\n葉祖雄\\n沈心利\\n彭虹屏\\n余宗儒\\n李立偉\\n臧怡君\\n吳振瑋\\n陳建豪\\n蕭怡伶\\n周芷蓁\\n黃偉剛\\n黃婷婷\\n郎慧萍\\n林昱芳\\n趙宛真\\n白世宏\\n杜明延\\n許淑婷\\n林珍旺\\n蔡孟泉\\n吳晴洋\\n游一鈺\\n朱士弘\\n黃政甫\\n游淑惠\\n張婕妤\\n陳逸華\\n張天亨\\n張嘉韋\\n王志謙\\n黎惠雯\\n高信宏\\n梁柏宇\\n林志喜\\n金宜芳\\n簡國瑋\\n林清英\\n黃彥孝\\n鄭奇翰\\n李慶亮\\n李蓉瑞\\n張明惟\\n游詩亞\\n黃嘉琪\\n張家秀\\n吳柏誠\\n陳得映\\n郭致恬\\n林麗萍\\n陳樂紫\\n翁鈺婷\\n蔡世馨\\n楊建安\\n李湘婷\\n鞠冠宇\\n林志成\\n陳信念\\n林益妏\\n蔡偉成\\n王惠皓\\n王筱婷\\n楊火帆\\n陳怡珊\\n張慧君\\n翁羽威\\n羅幸娥\\n陳俊憲\\n洪奎夫\\n翁均安\\n吳明妮\\n高智超\\n王人仰\\n劉旭士\\n蘇凡菁\\n謝哲維\\n彭偉妃\\n劉耿琦\\n黃柏宇\\n李佳彥\\n唐翊修\\n陳建香\\n葉軍仰\\n吳志宣\\n林珈發\\n黃翔杰\\n郭坤花\\n吳淑惠\\n簡美君\\n許芳如\\n謝水儒\\n陳怡容\\n蔡欣汝\\n王良斌\\n周家銘\\n張凱妮\\n鄭淑珍\\n陳嘉淑\\n魏秋萍\\n簡佳樺\\n劉佳佩\\n李彥伸\\n陳筱涵\\n蔡明平\\n王展人\\n方筠紹\\n陳志偉\\n錢佩豪\\n陳冠霞\\n潘英迪\\n陳冠竹\\n李淑芳\\n謝南慧\\n趙家豪\\n龐皓芳\\n張彥博'"
      ]
     },
     "execution_count": 16,
     "metadata": {},
     "output_type": "execute_result"
    }
   ],
   "source": [
    "with open('names.txt',encoding='utf-8') as file:\n",
    "    names: str = file.read()\n",
    "\n",
    "names"
   ]
  },
  {
   "cell_type": "code",
   "execution_count": null,
   "metadata": {},
   "outputs": [],
   "source": [
    "with open('names.txt',encoding='utf-8') as file:\n",
    "    names: str = file.read()\n",
    "name_list: list[str] = names.split(sep='\\n')\n",
    "name_list"
   ]
  },
  {
   "cell_type": "code",
   "execution_count": 33,
   "metadata": {},
   "outputs": [
    {
     "data": {
      "text/plain": [
       "'游淑惠'"
      ]
     },
     "execution_count": 33,
     "metadata": {},
     "output_type": "execute_result"
    }
   ],
   "source": [
    "import random\n",
    "with open('names.txt',encoding='utf-8') as file:\n",
    "    names: str = file.read()\n",
    "\n",
    "name_list: list[str] = names.split(sep='\\n')\n",
    "random.choice(name_list)"
   ]
  },
  {
   "cell_type": "code",
   "execution_count": 41,
   "metadata": {},
   "outputs": [
    {
     "data": {
      "text/plain": [
       "['景歡燦', '王人仰', '吳淑惠', '高智超', '鄭憲定', '劉佳佩', '馮耀中', '林怡偉']"
      ]
     },
     "execution_count": 41,
     "metadata": {},
     "output_type": "execute_result"
    }
   ],
   "source": [
    "import random\n",
    "with open('names.txt',encoding='utf-8') as file:\n",
    "    names: str = file.read()\n",
    "\n",
    "name_list: list[str] = names.split(sep='\\n')\n",
    "random.choices(name_list,k=8)"
   ]
  },
  {
   "cell_type": "code",
   "execution_count": 5,
   "metadata": {},
   "outputs": [],
   "source": [
    "def get_names(nums=1)->list[str]:\n",
    "    import random\n",
    "    with open('names.txt',encoding='utf-8') as file:\n",
    "        names: str = file.read()\n",
    "    name_list: list[str] = names.split(sep='\\n')\n",
    "    return random.choices(name_list,k=nums)"
   ]
  },
  {
   "cell_type": "code",
   "execution_count": 6,
   "metadata": {},
   "outputs": [
    {
     "data": {
      "text/plain": [
       "['黃心航', '唐翊修', '周芷蓁', '李佳彥', '陳文賢']"
      ]
     },
     "execution_count": 6,
     "metadata": {},
     "output_type": "execute_result"
    }
   ],
   "source": [
    "get_names(nums=5)"
   ]
  },
  {
   "cell_type": "code",
   "execution_count": 12,
   "metadata": {},
   "outputs": [
    {
     "data": {
      "text/plain": [
       "[{'姓名': '唐雪豪', '國文': 57, '英文': 74, '數學': 87, '社會': 56, '自然': 85},\n",
       " {'姓名': '張天亨', '國文': 61, '英文': 51, '數學': 97, '社會': 77, '自然': 71},\n",
       " {'姓名': '陳美惠', '國文': 79, '英文': 100, '數學': 70, '社會': 100, '自然': 93},\n",
       " {'姓名': '林玉佩', '國文': 88, '英文': 97, '數學': 67, '社會': 73, '自然': 56},\n",
       " {'姓名': '趙偉銘', '國文': 69, '英文': 55, '數學': 70, '社會': 77, '自然': 92},\n",
       " {'姓名': '王品星', '國文': 53, '英文': 86, '數學': 92, '社會': 55, '自然': 95},\n",
       " {'姓名': '周琬婷', '國文': 68, '英文': 75, '數學': 76, '社會': 60, '自然': 68},\n",
       " {'姓名': '楊少亮', '國文': 60, '英文': 91, '數學': 58, '社會': 55, '自然': 73},\n",
       " {'姓名': '錢欣潔', '國文': 90, '英文': 89, '數學': 89, '社會': 53, '自然': 60},\n",
       " {'姓名': '郭淑枝', '國文': 62, '英文': 98, '數學': 62, '社會': 80, '自然': 63},\n",
       " {'姓名': '陳怡珊', '國文': 98, '英文': 98, '數學': 93, '社會': 73, '自然': 66},\n",
       " {'姓名': '林玉佩', '國文': 73, '英文': 57, '數學': 63, '社會': 73, '自然': 81},\n",
       " {'姓名': '吳昕婷', '國文': 79, '英文': 68, '數學': 74, '社會': 55, '自然': 98},\n",
       " {'姓名': '劉佳佩', '國文': 55, '英文': 91, '數學': 68, '社會': 96, '自然': 77},\n",
       " {'姓名': '張家秀', '國文': 57, '英文': 69, '數學': 91, '社會': 67, '自然': 66},\n",
       " {'姓名': '吳志宣', '國文': 64, '英文': 72, '數學': 84, '社會': 62, '自然': 96},\n",
       " {'姓名': '黃婷婷', '國文': 76, '英文': 77, '數學': 87, '社會': 65, '自然': 100},\n",
       " {'姓名': '劉慧君', '國文': 66, '英文': 78, '數學': 69, '社會': 98, '自然': 84},\n",
       " {'姓名': '劉慧君', '國文': 94, '英文': 97, '數學': 86, '社會': 93, '自然': 92},\n",
       " {'姓名': '黃雅慧', '國文': 72, '英文': 68, '數學': 51, '社會': 62, '自然': 85},\n",
       " {'姓名': '王泓泰', '國文': 99, '英文': 60, '數學': 84, '社會': 62, '自然': 93},\n",
       " {'姓名': '劉依婷', '國文': 91, '英文': 80, '數學': 96, '社會': 51, '自然': 82},\n",
       " {'姓名': '彭偉妃', '國文': 92, '英文': 51, '數學': 75, '社會': 94, '自然': 82},\n",
       " {'姓名': '黃偉剛', '國文': 50, '英文': 74, '數學': 54, '社會': 83, '自然': 66},\n",
       " {'姓名': '賴苑禾', '國文': 79, '英文': 78, '數學': 70, '社會': 53, '自然': 87},\n",
       " {'姓名': '陳怡珊', '國文': 58, '英文': 56, '數學': 52, '社會': 74, '自然': 52},\n",
       " {'姓名': '蔡孟泉', '國文': 84, '英文': 95, '數學': 52, '社會': 83, '自然': 90},\n",
       " {'姓名': '陳逸華', '國文': 57, '英文': 85, '數學': 85, '社會': 64, '自然': 53},\n",
       " {'姓名': '吳麗卿', '國文': 79, '英文': 55, '數學': 88, '社會': 96, '自然': 52},\n",
       " {'姓名': '林志成', '國文': 62, '英文': 77, '數學': 75, '社會': 100, '自然': 58},\n",
       " {'姓名': '黃詩妃', '國文': 83, '英文': 55, '數學': 61, '社會': 51, '自然': 62},\n",
       " {'姓名': '馮耀中', '國文': 54, '英文': 77, '數學': 89, '社會': 91, '自然': 86},\n",
       " {'姓名': '蕭怡伶', '國文': 85, '英文': 91, '數學': 74, '社會': 74, '自然': 76},\n",
       " {'姓名': '游倫城', '國文': 69, '英文': 83, '數學': 74, '社會': 97, '自然': 94},\n",
       " {'姓名': '賴苑禾', '國文': 56, '英文': 59, '數學': 85, '社會': 68, '自然': 89},\n",
       " {'姓名': '王怡君', '國文': 53, '英文': 79, '數學': 51, '社會': 63, '自然': 95},\n",
       " {'姓名': '黃麗美', '國文': 59, '英文': 59, '數學': 81, '社會': 92, '自然': 58},\n",
       " {'姓名': '沈心利', '國文': 81, '英文': 57, '數學': 89, '社會': 95, '自然': 91},\n",
       " {'姓名': '吳欣書', '國文': 87, '英文': 67, '數學': 61, '社會': 99, '自然': 88},\n",
       " {'姓名': '張天亨', '國文': 96, '英文': 65, '數學': 68, '社會': 97, '自然': 80},\n",
       " {'姓名': '陳倩妮', '國文': 80, '英文': 90, '數學': 73, '社會': 50, '自然': 99},\n",
       " {'姓名': '楊少亮', '國文': 92, '英文': 96, '數學': 66, '社會': 92, '自然': 66},\n",
       " {'姓名': '劉慧君', '國文': 70, '英文': 96, '數學': 50, '社會': 54, '自然': 56},\n",
       " {'姓名': '艾巧夫', '國文': 97, '英文': 68, '數學': 98, '社會': 53, '自然': 65},\n",
       " {'姓名': '葉祖雄', '國文': 75, '英文': 59, '數學': 69, '社會': 56, '自然': 60},\n",
       " {'姓名': '李進慧', '國文': 95, '英文': 83, '數學': 83, '社會': 66, '自然': 57},\n",
       " {'姓名': '蒙淑惠', '國文': 61, '英文': 53, '數學': 92, '社會': 91, '自然': 71},\n",
       " {'姓名': '蘇凡菁', '國文': 65, '英文': 65, '數學': 80, '社會': 88, '自然': 81},\n",
       " {'姓名': '劉慧君', '國文': 54, '英文': 63, '數學': 73, '社會': 97, '自然': 55},\n",
       " {'姓名': '藍姿婷', '國文': 72, '英文': 72, '數學': 52, '社會': 88, '自然': 99}]"
      ]
     },
     "execution_count": 12,
     "metadata": {},
     "output_type": "execute_result"
    }
   ],
   "source": [
    "##建立50個學生姓名\n",
    "from random import randint\n",
    "names: list[str]= get_names(50)\n",
    "students:list[dict] =[] \n",
    "for name in names:\n",
    "    student:dict={'姓名':name}\n",
    "    for subject in ['國文','英文','數學','社會','自然']:\n",
    "        student[subject]=randint(50,100)\n",
    "    students.append(student)\n",
    "\n",
    "students"
   ]
  },
  {
   "cell_type": "code",
   "execution_count": null,
   "metadata": {},
   "outputs": [],
   "source": [
    "####lesson10 homework\n",
    "##輸入：\n",
    "##-姓名：XXX(由亂數取得)\n",
    "##-身高(公分)：XXX\n",
    "##-體重(公斤)：XXX\n",
    "\n",
    "##輸出：\n",
    "##-XXX您好：\n",
    "##-您的BMI是:XXX.XXX\n",
    "##-您的體重屬於：過重"
   ]
  }
 ],
 "metadata": {
  "kernelspec": {
   "display_name": "Python 3",
   "language": "python",
   "name": "python3"
  },
  "language_info": {
   "codemirror_mode": {
    "name": "ipython",
    "version": 3
   },
   "file_extension": ".py",
   "mimetype": "text/x-python",
   "name": "python",
   "nbconvert_exporter": "python",
   "pygments_lexer": "ipython3",
   "version": "3.10.13"
  }
 },
 "nbformat": 4,
 "nbformat_minor": 2
}
